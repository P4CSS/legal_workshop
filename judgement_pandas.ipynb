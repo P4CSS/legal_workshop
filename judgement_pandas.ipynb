{
 "cells": [
  {
   "cell_type": "markdown",
   "metadata": {},
   "source": [
    "# Introduction\n",
    "- [從49萬筆判決書 看見台灣酒駕輪廓](https://www.cna.com.tw/project/20190719-drunkdriving/epilogue.html) by CNA\n",
    "- [酒駕判決書文字資料清理與結構化](https://www.cna.com.tw/project/20190719-drunkdriving/api/negligent.html) by CNA\n",
    "- [github repo](https://github.com/cnaweb2009/drunkDrive) by CNA"
   ]
  },
  {
   "cell_type": "code",
   "execution_count": 1,
   "metadata": {},
   "outputs": [],
   "source": [
    "import json\n",
    "import pandas as pd\n",
    "# import pickle\n",
    "from collections import Counter"
   ]
  },
  {
   "cell_type": "markdown",
   "metadata": {},
   "source": [
    "# Loading data"
   ]
  },
  {
   "cell_type": "code",
   "execution_count": 2,
   "metadata": {},
   "outputs": [
    {
     "data": {
      "text/html": [
       "<div>\n",
       "<style scoped>\n",
       "    .dataframe tbody tr th:only-of-type {\n",
       "        vertical-align: middle;\n",
       "    }\n",
       "\n",
       "    .dataframe tbody tr th {\n",
       "        vertical-align: top;\n",
       "    }\n",
       "\n",
       "    .dataframe thead th {\n",
       "        text-align: right;\n",
       "    }\n",
       "</style>\n",
       "<table border=\"1\" class=\"dataframe\">\n",
       "  <thead>\n",
       "    <tr style=\"text-align: right;\">\n",
       "      <th></th>\n",
       "      <th>court</th>\n",
       "      <th>date</th>\n",
       "      <th>no</th>\n",
       "      <th>sys</th>\n",
       "      <th>reason</th>\n",
       "      <th>judgement</th>\n",
       "      <th>type</th>\n",
       "      <th>mainText</th>\n",
       "      <th>relatedIssues</th>\n",
       "      <th>id</th>\n",
       "    </tr>\n",
       "  </thead>\n",
       "  <tbody>\n",
       "    <tr>\n",
       "      <th>0</th>\n",
       "      <td>臺灣士林地方法院</td>\n",
       "      <td>2013-08-30</td>\n",
       "      <td>102,審簡,512</td>\n",
       "      <td>刑事</td>\n",
       "      <td>毒品危害防制條例</td>\n",
       "      <td>臺灣士林地方法院刑事簡易判決　　　　102年度審簡字第512號\\r\\n公　訴　人　臺灣士林地...</td>\n",
       "      <td>判決</td>\n",
       "      <td>林鋒施用第二級毒品，累犯，處有期徒刑肆月，如易科罰金，以新臺幣壹仟元折算壹日，扣案之第二級毒...</td>\n",
       "      <td>中華民國刑法 11; 中華民國刑法 38 1 2; 中華民國刑法 38 1 2; 中華民國刑...</td>\n",
       "      <td>士林102審簡512</td>\n",
       "    </tr>\n",
       "    <tr>\n",
       "      <th>1</th>\n",
       "      <td>臺灣士林地方法院</td>\n",
       "      <td>2013-04-17</td>\n",
       "      <td>102,易,19</td>\n",
       "      <td>刑事</td>\n",
       "      <td>妨害名譽</td>\n",
       "      <td>臺灣士林地方法院刑事判決　　　　　　　 102年度易字第19號\\r\\n公　訴　人　臺灣士林地...</td>\n",
       "      <td>判決</td>\n",
       "      <td>洪嬌無罪。</td>\n",
       "      <td>中華民國刑法 309 1; 刑事訴訟法 154 2; 刑事訴訟法 161; 刑事訴訟法 16...</td>\n",
       "      <td>士林102易19</td>\n",
       "    </tr>\n",
       "    <tr>\n",
       "      <th>2</th>\n",
       "      <td>臺灣士林地方法院</td>\n",
       "      <td>2013-10-29</td>\n",
       "      <td>102,易,188</td>\n",
       "      <td>刑事</td>\n",
       "      <td>妨害公務等</td>\n",
       "      <td>臺灣士林地方法院刑事判決　　　　　　　102年度易字第188號\\r\\n公　訴　人　臺灣士林地...</td>\n",
       "      <td>判決</td>\n",
       "      <td>李樹奎共同傷害人之身體，處有期徒刑肆月，如易科罰金，以新臺幣壹仟元折算壹日。\\n胡壽峯共同傷...</td>\n",
       "      <td>中華民國刑法 28; 中華民國刑法 41 1; 中華民國刑法 55; 中華民國刑法 135 ...</td>\n",
       "      <td>士林102易188</td>\n",
       "    </tr>\n",
       "    <tr>\n",
       "      <th>3</th>\n",
       "      <td>臺灣士林地方法院</td>\n",
       "      <td>2013-08-07</td>\n",
       "      <td>102,審簡,583</td>\n",
       "      <td>刑事</td>\n",
       "      <td>毒品危害防制條例</td>\n",
       "      <td>臺灣士林地方法院刑事簡易判決　　　　102年度審簡字第583號\\r\\n公　訴　人　臺灣士林地...</td>\n",
       "      <td>判決</td>\n",
       "      <td>吳世胤施用第二級毒品，累犯，處有期徒刑伍月，如易科罰金，以新臺幣壹仟元折算壹日。</td>\n",
       "      <td>中華民國刑法 11; 中華民國刑法 41 1; 中華民國刑法 47 1; 中華民國刑法 47...</td>\n",
       "      <td>士林102審簡583</td>\n",
       "    </tr>\n",
       "    <tr>\n",
       "      <th>4</th>\n",
       "      <td>臺灣士林地方法院</td>\n",
       "      <td>2013-09-04</td>\n",
       "      <td>102,審簡,592</td>\n",
       "      <td>刑事</td>\n",
       "      <td>偽造文書</td>\n",
       "      <td>臺灣士林地方法院刑事簡易判決　　　　102年度審簡字第592號\\r\\n公　訴　人　臺灣士林地...</td>\n",
       "      <td>判決</td>\n",
       "      <td>潘長壽行使偽造私文書，足以生損害於公眾及他人，處有期徒刑參月，如易科罰金，以新臺幣壹仟元折算...</td>\n",
       "      <td>中華民國刑法 41 1; 中華民國刑法 55; 中華民國刑法 55; 中華民國刑法 62; ...</td>\n",
       "      <td>士林102審簡592</td>\n",
       "    </tr>\n",
       "  </tbody>\n",
       "</table>\n",
       "</div>"
      ],
      "text/plain": [
       "      court       date          no sys    reason  \\\n",
       "0  臺灣士林地方法院 2013-08-30  102,審簡,512  刑事  毒品危害防制條例   \n",
       "1  臺灣士林地方法院 2013-04-17    102,易,19  刑事      妨害名譽   \n",
       "2  臺灣士林地方法院 2013-10-29   102,易,188  刑事     妨害公務等   \n",
       "3  臺灣士林地方法院 2013-08-07  102,審簡,583  刑事  毒品危害防制條例   \n",
       "4  臺灣士林地方法院 2013-09-04  102,審簡,592  刑事      偽造文書   \n",
       "\n",
       "                                           judgement type  \\\n",
       "0  臺灣士林地方法院刑事簡易判決　　　　102年度審簡字第512號\\r\\n公　訴　人　臺灣士林地...   判決   \n",
       "1  臺灣士林地方法院刑事判決　　　　　　　 102年度易字第19號\\r\\n公　訴　人　臺灣士林地...   判決   \n",
       "2  臺灣士林地方法院刑事判決　　　　　　　102年度易字第188號\\r\\n公　訴　人　臺灣士林地...   判決   \n",
       "3  臺灣士林地方法院刑事簡易判決　　　　102年度審簡字第583號\\r\\n公　訴　人　臺灣士林地...   判決   \n",
       "4  臺灣士林地方法院刑事簡易判決　　　　102年度審簡字第592號\\r\\n公　訴　人　臺灣士林地...   判決   \n",
       "\n",
       "                                            mainText  \\\n",
       "0  林鋒施用第二級毒品，累犯，處有期徒刑肆月，如易科罰金，以新臺幣壹仟元折算壹日，扣案之第二級毒...   \n",
       "1                                              洪嬌無罪。   \n",
       "2  李樹奎共同傷害人之身體，處有期徒刑肆月，如易科罰金，以新臺幣壹仟元折算壹日。\\n胡壽峯共同傷...   \n",
       "3           吳世胤施用第二級毒品，累犯，處有期徒刑伍月，如易科罰金，以新臺幣壹仟元折算壹日。   \n",
       "4  潘長壽行使偽造私文書，足以生損害於公眾及他人，處有期徒刑參月，如易科罰金，以新臺幣壹仟元折算...   \n",
       "\n",
       "                                       relatedIssues          id  \n",
       "0  中華民國刑法 11; 中華民國刑法 38 1 2; 中華民國刑法 38 1 2; 中華民國刑...  士林102審簡512  \n",
       "1  中華民國刑法 309 1; 刑事訴訟法 154 2; 刑事訴訟法 161; 刑事訴訟法 16...    士林102易19  \n",
       "2  中華民國刑法 28; 中華民國刑法 41 1; 中華民國刑法 55; 中華民國刑法 135 ...   士林102易188  \n",
       "3  中華民國刑法 11; 中華民國刑法 41 1; 中華民國刑法 47 1; 中華民國刑法 47...  士林102審簡583  \n",
       "4  中華民國刑法 41 1; 中華民國刑法 55; 中華民國刑法 55; 中華民國刑法 62; ...  士林102審簡592  "
      ]
     },
     "execution_count": 2,
     "metadata": {},
     "output_type": "execute_result"
    }
   ],
   "source": [
    "df = pd.read_json(\"jiu.json\")\n",
    "df.head()"
   ]
  },
  {
   "cell_type": "code",
   "execution_count": 47,
   "metadata": {},
   "outputs": [
    {
     "name": "stdout",
     "output_type": "stream",
     "text": [
      "Counter({'刑事': 2709, '民事': 593})\n",
      "Counter({'判決': 2955, '裁定': 347})\n"
     ]
    }
   ],
   "source": [
    "print(Counter(df['sys']))\n",
    "print(Counter(df['type']))"
   ]
  },
  {
   "cell_type": "markdown",
   "metadata": {},
   "source": [
    "# Cleaning data"
   ]
  },
  {
   "cell_type": "markdown",
   "metadata": {},
   "source": [
    "## Select columns and filter rows"
   ]
  },
  {
   "cell_type": "code",
   "execution_count": 4,
   "metadata": {},
   "outputs": [
    {
     "data": {
      "text/html": [
       "<div>\n",
       "<style scoped>\n",
       "    .dataframe tbody tr th:only-of-type {\n",
       "        vertical-align: middle;\n",
       "    }\n",
       "\n",
       "    .dataframe tbody tr th {\n",
       "        vertical-align: top;\n",
       "    }\n",
       "\n",
       "    .dataframe thead th {\n",
       "        text-align: right;\n",
       "    }\n",
       "</style>\n",
       "<table border=\"1\" class=\"dataframe\">\n",
       "  <thead>\n",
       "    <tr style=\"text-align: right;\">\n",
       "      <th></th>\n",
       "      <th>court</th>\n",
       "      <th>date</th>\n",
       "      <th>no</th>\n",
       "      <th>sys</th>\n",
       "      <th>reason</th>\n",
       "      <th>judgement</th>\n",
       "      <th>type</th>\n",
       "      <th>mainText</th>\n",
       "      <th>relatedIssues</th>\n",
       "      <th>id</th>\n",
       "    </tr>\n",
       "  </thead>\n",
       "  <tbody>\n",
       "    <tr>\n",
       "      <th>0</th>\n",
       "      <td>臺灣士林地方法院</td>\n",
       "      <td>2013-08-30</td>\n",
       "      <td>102,審簡,512</td>\n",
       "      <td>刑事</td>\n",
       "      <td>毒品危害防制條例</td>\n",
       "      <td>臺灣士林地方法院刑事簡易判決　　　　102年度審簡字第512號\\r\\n公　訴　人　臺灣士林地...</td>\n",
       "      <td>判決</td>\n",
       "      <td>林鋒施用第二級毒品，累犯，處有期徒刑肆月，如易科罰金，以新臺幣壹仟元折算壹日，扣案之第二級毒...</td>\n",
       "      <td>中華民國刑法 11; 中華民國刑法 38 1 2; 中華民國刑法 38 1 2; 中華民國刑...</td>\n",
       "      <td>士林102審簡512</td>\n",
       "    </tr>\n",
       "    <tr>\n",
       "      <th>1</th>\n",
       "      <td>臺灣士林地方法院</td>\n",
       "      <td>2013-04-17</td>\n",
       "      <td>102,易,19</td>\n",
       "      <td>刑事</td>\n",
       "      <td>妨害名譽</td>\n",
       "      <td>臺灣士林地方法院刑事判決　　　　　　　 102年度易字第19號\\r\\n公　訴　人　臺灣士林地...</td>\n",
       "      <td>判決</td>\n",
       "      <td>洪嬌無罪。</td>\n",
       "      <td>中華民國刑法 309 1; 刑事訴訟法 154 2; 刑事訴訟法 161; 刑事訴訟法 16...</td>\n",
       "      <td>士林102易19</td>\n",
       "    </tr>\n",
       "    <tr>\n",
       "      <th>2</th>\n",
       "      <td>臺灣士林地方法院</td>\n",
       "      <td>2013-10-29</td>\n",
       "      <td>102,易,188</td>\n",
       "      <td>刑事</td>\n",
       "      <td>妨害公務等</td>\n",
       "      <td>臺灣士林地方法院刑事判決　　　　　　　102年度易字第188號\\r\\n公　訴　人　臺灣士林地...</td>\n",
       "      <td>判決</td>\n",
       "      <td>李樹奎共同傷害人之身體，處有期徒刑肆月，如易科罰金，以新臺幣壹仟元折算壹日。\\n胡壽峯共同傷...</td>\n",
       "      <td>中華民國刑法 28; 中華民國刑法 41 1; 中華民國刑法 55; 中華民國刑法 135 ...</td>\n",
       "      <td>士林102易188</td>\n",
       "    </tr>\n",
       "    <tr>\n",
       "      <th>3</th>\n",
       "      <td>臺灣士林地方法院</td>\n",
       "      <td>2013-08-07</td>\n",
       "      <td>102,審簡,583</td>\n",
       "      <td>刑事</td>\n",
       "      <td>毒品危害防制條例</td>\n",
       "      <td>臺灣士林地方法院刑事簡易判決　　　　102年度審簡字第583號\\r\\n公　訴　人　臺灣士林地...</td>\n",
       "      <td>判決</td>\n",
       "      <td>吳世胤施用第二級毒品，累犯，處有期徒刑伍月，如易科罰金，以新臺幣壹仟元折算壹日。</td>\n",
       "      <td>中華民國刑法 11; 中華民國刑法 41 1; 中華民國刑法 47 1; 中華民國刑法 47...</td>\n",
       "      <td>士林102審簡583</td>\n",
       "    </tr>\n",
       "    <tr>\n",
       "      <th>4</th>\n",
       "      <td>臺灣士林地方法院</td>\n",
       "      <td>2013-09-04</td>\n",
       "      <td>102,審簡,592</td>\n",
       "      <td>刑事</td>\n",
       "      <td>偽造文書</td>\n",
       "      <td>臺灣士林地方法院刑事簡易判決　　　　102年度審簡字第592號\\r\\n公　訴　人　臺灣士林地...</td>\n",
       "      <td>判決</td>\n",
       "      <td>潘長壽行使偽造私文書，足以生損害於公眾及他人，處有期徒刑參月，如易科罰金，以新臺幣壹仟元折算...</td>\n",
       "      <td>中華民國刑法 41 1; 中華民國刑法 55; 中華民國刑法 55; 中華民國刑法 62; ...</td>\n",
       "      <td>士林102審簡592</td>\n",
       "    </tr>\n",
       "  </tbody>\n",
       "</table>\n",
       "</div>"
      ],
      "text/plain": [
       "      court       date          no sys    reason  \\\n",
       "0  臺灣士林地方法院 2013-08-30  102,審簡,512  刑事  毒品危害防制條例   \n",
       "1  臺灣士林地方法院 2013-04-17    102,易,19  刑事      妨害名譽   \n",
       "2  臺灣士林地方法院 2013-10-29   102,易,188  刑事     妨害公務等   \n",
       "3  臺灣士林地方法院 2013-08-07  102,審簡,583  刑事  毒品危害防制條例   \n",
       "4  臺灣士林地方法院 2013-09-04  102,審簡,592  刑事      偽造文書   \n",
       "\n",
       "                                           judgement type  \\\n",
       "0  臺灣士林地方法院刑事簡易判決　　　　102年度審簡字第512號\\r\\n公　訴　人　臺灣士林地...   判決   \n",
       "1  臺灣士林地方法院刑事判決　　　　　　　 102年度易字第19號\\r\\n公　訴　人　臺灣士林地...   判決   \n",
       "2  臺灣士林地方法院刑事判決　　　　　　　102年度易字第188號\\r\\n公　訴　人　臺灣士林地...   判決   \n",
       "3  臺灣士林地方法院刑事簡易判決　　　　102年度審簡字第583號\\r\\n公　訴　人　臺灣士林地...   判決   \n",
       "4  臺灣士林地方法院刑事簡易判決　　　　102年度審簡字第592號\\r\\n公　訴　人　臺灣士林地...   判決   \n",
       "\n",
       "                                            mainText  \\\n",
       "0  林鋒施用第二級毒品，累犯，處有期徒刑肆月，如易科罰金，以新臺幣壹仟元折算壹日，扣案之第二級毒...   \n",
       "1                                              洪嬌無罪。   \n",
       "2  李樹奎共同傷害人之身體，處有期徒刑肆月，如易科罰金，以新臺幣壹仟元折算壹日。\\n胡壽峯共同傷...   \n",
       "3           吳世胤施用第二級毒品，累犯，處有期徒刑伍月，如易科罰金，以新臺幣壹仟元折算壹日。   \n",
       "4  潘長壽行使偽造私文書，足以生損害於公眾及他人，處有期徒刑參月，如易科罰金，以新臺幣壹仟元折算...   \n",
       "\n",
       "                                       relatedIssues          id  \n",
       "0  中華民國刑法 11; 中華民國刑法 38 1 2; 中華民國刑法 38 1 2; 中華民國刑...  士林102審簡512  \n",
       "1  中華民國刑法 309 1; 刑事訴訟法 154 2; 刑事訴訟法 161; 刑事訴訟法 16...    士林102易19  \n",
       "2  中華民國刑法 28; 中華民國刑法 41 1; 中華民國刑法 55; 中華民國刑法 135 ...   士林102易188  \n",
       "3  中華民國刑法 11; 中華民國刑法 41 1; 中華民國刑法 47 1; 中華民國刑法 47...  士林102審簡583  \n",
       "4  中華民國刑法 41 1; 中華民國刑法 55; 中華民國刑法 55; 中華民國刑法 62; ...  士林102審簡592  "
      ]
     },
     "execution_count": 4,
     "metadata": {},
     "output_type": "execute_result"
    }
   ],
   "source": [
    "# df = df.drop(columns=['historyHash', '_index', '_type', '_id'])\n",
    "df.head()"
   ]
  },
  {
   "cell_type": "code",
   "execution_count": 5,
   "metadata": {},
   "outputs": [
    {
     "data": {
      "text/plain": [
       "court                    object\n",
       "date             datetime64[ns]\n",
       "no                       object\n",
       "sys                      object\n",
       "reason                   object\n",
       "judgement                object\n",
       "type                     object\n",
       "mainText                 object\n",
       "relatedIssues            object\n",
       "id                       object\n",
       "dtype: object"
      ]
     },
     "execution_count": 5,
     "metadata": {},
     "output_type": "execute_result"
    }
   ],
   "source": [
    "df = df.loc[df['type'] != '']\n",
    "df.dtypes"
   ]
  },
  {
   "cell_type": "code",
   "execution_count": 7,
   "metadata": {},
   "outputs": [
    {
     "data": {
      "text/html": [
       "<div>\n",
       "<style scoped>\n",
       "    .dataframe tbody tr th:only-of-type {\n",
       "        vertical-align: middle;\n",
       "    }\n",
       "\n",
       "    .dataframe tbody tr th {\n",
       "        vertical-align: top;\n",
       "    }\n",
       "\n",
       "    .dataframe thead th {\n",
       "        text-align: right;\n",
       "    }\n",
       "</style>\n",
       "<table border=\"1\" class=\"dataframe\">\n",
       "  <thead>\n",
       "    <tr style=\"text-align: right;\">\n",
       "      <th></th>\n",
       "      <th>court</th>\n",
       "      <th>date</th>\n",
       "      <th>no</th>\n",
       "      <th>sys</th>\n",
       "      <th>reason</th>\n",
       "      <th>judgement</th>\n",
       "      <th>type</th>\n",
       "      <th>mainText</th>\n",
       "      <th>relatedIssues</th>\n",
       "      <th>id</th>\n",
       "    </tr>\n",
       "  </thead>\n",
       "  <tbody>\n",
       "    <tr>\n",
       "      <th>0</th>\n",
       "      <td>臺灣士林地方法院</td>\n",
       "      <td>2013-08-30</td>\n",
       "      <td>102,審簡,512</td>\n",
       "      <td>刑事</td>\n",
       "      <td>毒品危害防制條例</td>\n",
       "      <td>臺灣士林地方法院刑事簡易判決　　　　102年度審簡字第512號\\r\\n公　訴　人　臺灣士林地...</td>\n",
       "      <td>判決</td>\n",
       "      <td>林鋒施用第二級毒品，累犯，處有期徒刑肆月，如易科罰金，以新臺幣壹仟元折算壹日，扣案之第二級毒...</td>\n",
       "      <td>中華民國刑法 11; 中華民國刑法 38 1 2; 中華民國刑法 38 1 2; 中華民國刑...</td>\n",
       "      <td>士林102審簡512</td>\n",
       "    </tr>\n",
       "    <tr>\n",
       "      <th>1</th>\n",
       "      <td>臺灣士林地方法院</td>\n",
       "      <td>2013-04-17</td>\n",
       "      <td>102,易,19</td>\n",
       "      <td>刑事</td>\n",
       "      <td>妨害名譽</td>\n",
       "      <td>臺灣士林地方法院刑事判決　　　　　　　 102年度易字第19號\\r\\n公　訴　人　臺灣士林地...</td>\n",
       "      <td>判決</td>\n",
       "      <td>洪嬌無罪。</td>\n",
       "      <td>中華民國刑法 309 1; 刑事訴訟法 154 2; 刑事訴訟法 161; 刑事訴訟法 16...</td>\n",
       "      <td>士林102易19</td>\n",
       "    </tr>\n",
       "    <tr>\n",
       "      <th>2</th>\n",
       "      <td>臺灣士林地方法院</td>\n",
       "      <td>2013-10-29</td>\n",
       "      <td>102,易,188</td>\n",
       "      <td>刑事</td>\n",
       "      <td>妨害公務等</td>\n",
       "      <td>臺灣士林地方法院刑事判決　　　　　　　102年度易字第188號\\r\\n公　訴　人　臺灣士林地...</td>\n",
       "      <td>判決</td>\n",
       "      <td>李樹奎共同傷害人之身體，處有期徒刑肆月，如易科罰金，以新臺幣壹仟元折算壹日。\\n胡壽峯共同傷...</td>\n",
       "      <td>中華民國刑法 28; 中華民國刑法 41 1; 中華民國刑法 55; 中華民國刑法 135 ...</td>\n",
       "      <td>士林102易188</td>\n",
       "    </tr>\n",
       "    <tr>\n",
       "      <th>3</th>\n",
       "      <td>臺灣士林地方法院</td>\n",
       "      <td>2013-08-07</td>\n",
       "      <td>102,審簡,583</td>\n",
       "      <td>刑事</td>\n",
       "      <td>毒品危害防制條例</td>\n",
       "      <td>臺灣士林地方法院刑事簡易判決　　　　102年度審簡字第583號\\r\\n公　訴　人　臺灣士林地...</td>\n",
       "      <td>判決</td>\n",
       "      <td>吳世胤施用第二級毒品，累犯，處有期徒刑伍月，如易科罰金，以新臺幣壹仟元折算壹日。</td>\n",
       "      <td>中華民國刑法 11; 中華民國刑法 41 1; 中華民國刑法 47 1; 中華民國刑法 47...</td>\n",
       "      <td>士林102審簡583</td>\n",
       "    </tr>\n",
       "    <tr>\n",
       "      <th>4</th>\n",
       "      <td>臺灣士林地方法院</td>\n",
       "      <td>2013-09-04</td>\n",
       "      <td>102,審簡,592</td>\n",
       "      <td>刑事</td>\n",
       "      <td>偽造文書</td>\n",
       "      <td>臺灣士林地方法院刑事簡易判決　　　　102年度審簡字第592號\\r\\n公　訴　人　臺灣士林地...</td>\n",
       "      <td>判決</td>\n",
       "      <td>潘長壽行使偽造私文書，足以生損害於公眾及他人，處有期徒刑參月，如易科罰金，以新臺幣壹仟元折算...</td>\n",
       "      <td>中華民國刑法 41 1; 中華民國刑法 55; 中華民國刑法 55; 中華民國刑法 62; ...</td>\n",
       "      <td>士林102審簡592</td>\n",
       "    </tr>\n",
       "  </tbody>\n",
       "</table>\n",
       "</div>"
      ],
      "text/plain": [
       "      court       date          no sys    reason  \\\n",
       "0  臺灣士林地方法院 2013-08-30  102,審簡,512  刑事  毒品危害防制條例   \n",
       "1  臺灣士林地方法院 2013-04-17    102,易,19  刑事      妨害名譽   \n",
       "2  臺灣士林地方法院 2013-10-29   102,易,188  刑事     妨害公務等   \n",
       "3  臺灣士林地方法院 2013-08-07  102,審簡,583  刑事  毒品危害防制條例   \n",
       "4  臺灣士林地方法院 2013-09-04  102,審簡,592  刑事      偽造文書   \n",
       "\n",
       "                                           judgement type  \\\n",
       "0  臺灣士林地方法院刑事簡易判決　　　　102年度審簡字第512號\\r\\n公　訴　人　臺灣士林地...   判決   \n",
       "1  臺灣士林地方法院刑事判決　　　　　　　 102年度易字第19號\\r\\n公　訴　人　臺灣士林地...   判決   \n",
       "2  臺灣士林地方法院刑事判決　　　　　　　102年度易字第188號\\r\\n公　訴　人　臺灣士林地...   判決   \n",
       "3  臺灣士林地方法院刑事簡易判決　　　　102年度審簡字第583號\\r\\n公　訴　人　臺灣士林地...   判決   \n",
       "4  臺灣士林地方法院刑事簡易判決　　　　102年度審簡字第592號\\r\\n公　訴　人　臺灣士林地...   判決   \n",
       "\n",
       "                                            mainText  \\\n",
       "0  林鋒施用第二級毒品，累犯，處有期徒刑肆月，如易科罰金，以新臺幣壹仟元折算壹日，扣案之第二級毒...   \n",
       "1                                              洪嬌無罪。   \n",
       "2  李樹奎共同傷害人之身體，處有期徒刑肆月，如易科罰金，以新臺幣壹仟元折算壹日。\\n胡壽峯共同傷...   \n",
       "3           吳世胤施用第二級毒品，累犯，處有期徒刑伍月，如易科罰金，以新臺幣壹仟元折算壹日。   \n",
       "4  潘長壽行使偽造私文書，足以生損害於公眾及他人，處有期徒刑參月，如易科罰金，以新臺幣壹仟元折算...   \n",
       "\n",
       "                                       relatedIssues          id  \n",
       "0  中華民國刑法 11; 中華民國刑法 38 1 2; 中華民國刑法 38 1 2; 中華民國刑...  士林102審簡512  \n",
       "1  中華民國刑法 309 1; 刑事訴訟法 154 2; 刑事訴訟法 161; 刑事訴訟法 16...    士林102易19  \n",
       "2  中華民國刑法 28; 中華民國刑法 41 1; 中華民國刑法 55; 中華民國刑法 135 ...   士林102易188  \n",
       "3  中華民國刑法 11; 中華民國刑法 41 1; 中華民國刑法 47 1; 中華民國刑法 47...  士林102審簡583  \n",
       "4  中華民國刑法 41 1; 中華民國刑法 55; 中華民國刑法 55; 中華民國刑法 62; ...  士林102審簡592  "
      ]
     },
     "execution_count": 7,
     "metadata": {},
     "output_type": "execute_result"
    }
   ],
   "source": [
    "df.head()"
   ]
  },
  {
   "cell_type": "markdown",
   "metadata": {},
   "source": [
    "## Replacing space"
   ]
  },
  {
   "cell_type": "code",
   "execution_count": 48,
   "metadata": {},
   "outputs": [
    {
     "name": "stdout",
     "output_type": "stream",
     "text": [
      "(3302, 10)\n"
     ]
    },
    {
     "data": {
      "text/html": [
       "<div>\n",
       "<style scoped>\n",
       "    .dataframe tbody tr th:only-of-type {\n",
       "        vertical-align: middle;\n",
       "    }\n",
       "\n",
       "    .dataframe tbody tr th {\n",
       "        vertical-align: top;\n",
       "    }\n",
       "\n",
       "    .dataframe thead th {\n",
       "        text-align: right;\n",
       "    }\n",
       "</style>\n",
       "<table border=\"1\" class=\"dataframe\">\n",
       "  <thead>\n",
       "    <tr style=\"text-align: right;\">\n",
       "      <th></th>\n",
       "      <th>court</th>\n",
       "      <th>date</th>\n",
       "      <th>no</th>\n",
       "      <th>sys</th>\n",
       "      <th>reason</th>\n",
       "      <th>judgement</th>\n",
       "      <th>type</th>\n",
       "      <th>mainText</th>\n",
       "      <th>relatedIssues</th>\n",
       "      <th>id</th>\n",
       "    </tr>\n",
       "  </thead>\n",
       "  <tbody>\n",
       "    <tr>\n",
       "      <th>0</th>\n",
       "      <td>臺灣士林地方法院</td>\n",
       "      <td>2013-08-30</td>\n",
       "      <td>102,審簡,512</td>\n",
       "      <td>刑事</td>\n",
       "      <td>毒品危害防制條例</td>\n",
       "      <td>臺灣士林地方法院刑事簡易判決102年度審簡字第512號公訴人臺灣士林地方法院檢察署檢察官被告...</td>\n",
       "      <td>判決</td>\n",
       "      <td>林鋒施用第二級毒品，累犯，處有期徒刑肆月，如易科罰金，以新臺幣壹仟元折算壹日，扣案之第二級毒...</td>\n",
       "      <td>中華民國刑法_11;_中華民國刑法_38_1_2;_中華民國刑法_38_1_2;_中華民國刑...</td>\n",
       "      <td>士林102審簡512</td>\n",
       "    </tr>\n",
       "    <tr>\n",
       "      <th>1</th>\n",
       "      <td>臺灣士林地方法院</td>\n",
       "      <td>2013-04-17</td>\n",
       "      <td>102,易,19</td>\n",
       "      <td>刑事</td>\n",
       "      <td>妨害名譽</td>\n",
       "      <td>臺灣士林地方法院刑事判決102年度易字第19號公訴人臺灣士林地方法院檢察署檢察官被告洪嬌選任...</td>\n",
       "      <td>判決</td>\n",
       "      <td>洪嬌無罪。</td>\n",
       "      <td>中華民國刑法_309_1;_刑事訴訟法_154_2;_刑事訴訟法_161;_刑事訴訟法_16...</td>\n",
       "      <td>士林102易19</td>\n",
       "    </tr>\n",
       "    <tr>\n",
       "      <th>2</th>\n",
       "      <td>臺灣士林地方法院</td>\n",
       "      <td>2013-10-29</td>\n",
       "      <td>102,易,188</td>\n",
       "      <td>刑事</td>\n",
       "      <td>妨害公務等</td>\n",
       "      <td>臺灣士林地方法院刑事判決102年度易字第188號公訴人臺灣士林地方法院檢察署檢察官被告李樹奎...</td>\n",
       "      <td>判決</td>\n",
       "      <td>李樹奎共同傷害人之身體，處有期徒刑肆月，如易科罰金，以新臺幣壹仟元折算壹日。\\n胡壽峯共同傷...</td>\n",
       "      <td>中華民國刑法_28;_中華民國刑法_41_1;_中華民國刑法_55;_中華民國刑法_135_...</td>\n",
       "      <td>士林102易188</td>\n",
       "    </tr>\n",
       "    <tr>\n",
       "      <th>3</th>\n",
       "      <td>臺灣士林地方法院</td>\n",
       "      <td>2013-08-07</td>\n",
       "      <td>102,審簡,583</td>\n",
       "      <td>刑事</td>\n",
       "      <td>毒品危害防制條例</td>\n",
       "      <td>臺灣士林地方法院刑事簡易判決102年度審簡字第583號公訴人臺灣士林地方法院檢察署檢察官被告...</td>\n",
       "      <td>判決</td>\n",
       "      <td>吳世胤施用第二級毒品，累犯，處有期徒刑伍月，如易科罰金，以新臺幣壹仟元折算壹日。</td>\n",
       "      <td>中華民國刑法_11;_中華民國刑法_41_1;_中華民國刑法_47_1;_中華民國刑法_47...</td>\n",
       "      <td>士林102審簡583</td>\n",
       "    </tr>\n",
       "    <tr>\n",
       "      <th>4</th>\n",
       "      <td>臺灣士林地方法院</td>\n",
       "      <td>2013-09-04</td>\n",
       "      <td>102,審簡,592</td>\n",
       "      <td>刑事</td>\n",
       "      <td>偽造文書</td>\n",
       "      <td>臺灣士林地方法院刑事簡易判決102年度審簡字第592號公訴人臺灣士林地方法院檢察署檢察官被告...</td>\n",
       "      <td>判決</td>\n",
       "      <td>潘長壽行使偽造私文書，足以生損害於公眾及他人，處有期徒刑參月，如易科罰金，以新臺幣壹仟元折算...</td>\n",
       "      <td>中華民國刑法_41_1;_中華民國刑法_55;_中華民國刑法_55;_中華民國刑法_62;_...</td>\n",
       "      <td>士林102審簡592</td>\n",
       "    </tr>\n",
       "  </tbody>\n",
       "</table>\n",
       "</div>"
      ],
      "text/plain": [
       "      court       date          no sys    reason  \\\n",
       "0  臺灣士林地方法院 2013-08-30  102,審簡,512  刑事  毒品危害防制條例   \n",
       "1  臺灣士林地方法院 2013-04-17    102,易,19  刑事      妨害名譽   \n",
       "2  臺灣士林地方法院 2013-10-29   102,易,188  刑事     妨害公務等   \n",
       "3  臺灣士林地方法院 2013-08-07  102,審簡,583  刑事  毒品危害防制條例   \n",
       "4  臺灣士林地方法院 2013-09-04  102,審簡,592  刑事      偽造文書   \n",
       "\n",
       "                                           judgement type  \\\n",
       "0  臺灣士林地方法院刑事簡易判決102年度審簡字第512號公訴人臺灣士林地方法院檢察署檢察官被告...   判決   \n",
       "1  臺灣士林地方法院刑事判決102年度易字第19號公訴人臺灣士林地方法院檢察署檢察官被告洪嬌選任...   判決   \n",
       "2  臺灣士林地方法院刑事判決102年度易字第188號公訴人臺灣士林地方法院檢察署檢察官被告李樹奎...   判決   \n",
       "3  臺灣士林地方法院刑事簡易判決102年度審簡字第583號公訴人臺灣士林地方法院檢察署檢察官被告...   判決   \n",
       "4  臺灣士林地方法院刑事簡易判決102年度審簡字第592號公訴人臺灣士林地方法院檢察署檢察官被告...   判決   \n",
       "\n",
       "                                            mainText  \\\n",
       "0  林鋒施用第二級毒品，累犯，處有期徒刑肆月，如易科罰金，以新臺幣壹仟元折算壹日，扣案之第二級毒...   \n",
       "1                                              洪嬌無罪。   \n",
       "2  李樹奎共同傷害人之身體，處有期徒刑肆月，如易科罰金，以新臺幣壹仟元折算壹日。\\n胡壽峯共同傷...   \n",
       "3           吳世胤施用第二級毒品，累犯，處有期徒刑伍月，如易科罰金，以新臺幣壹仟元折算壹日。   \n",
       "4  潘長壽行使偽造私文書，足以生損害於公眾及他人，處有期徒刑參月，如易科罰金，以新臺幣壹仟元折算...   \n",
       "\n",
       "                                       relatedIssues          id  \n",
       "0  中華民國刑法_11;_中華民國刑法_38_1_2;_中華民國刑法_38_1_2;_中華民國刑...  士林102審簡512  \n",
       "1  中華民國刑法_309_1;_刑事訴訟法_154_2;_刑事訴訟法_161;_刑事訴訟法_16...    士林102易19  \n",
       "2  中華民國刑法_28;_中華民國刑法_41_1;_中華民國刑法_55;_中華民國刑法_135_...   士林102易188  \n",
       "3  中華民國刑法_11;_中華民國刑法_41_1;_中華民國刑法_47_1;_中華民國刑法_47...  士林102審簡583  \n",
       "4  中華民國刑法_41_1;_中華民國刑法_55;_中華民國刑法_55;_中華民國刑法_62;_...  士林102審簡592  "
      ]
     },
     "execution_count": 48,
     "metadata": {},
     "output_type": "execute_result"
    }
   ],
   "source": [
    "df['judgement'].replace('\\s+', '', regex=True, inplace=True)\n",
    "df['relatedIssues'].replace('\\s+', '_', regex=True, inplace=True)\n",
    "# df.columns\n",
    "print(df.shape)\n",
    "df.head()"
   ]
  },
  {
   "cell_type": "markdown",
   "metadata": {},
   "source": [
    "# Counting"
   ]
  },
  {
   "cell_type": "code",
   "execution_count": 9,
   "metadata": {},
   "outputs": [
    {
     "data": {
      "text/html": [
       "<div>\n",
       "<style scoped>\n",
       "    .dataframe tbody tr th:only-of-type {\n",
       "        vertical-align: middle;\n",
       "    }\n",
       "\n",
       "    .dataframe tbody tr th {\n",
       "        vertical-align: top;\n",
       "    }\n",
       "\n",
       "    .dataframe thead th {\n",
       "        text-align: right;\n",
       "    }\n",
       "</style>\n",
       "<table border=\"1\" class=\"dataframe\">\n",
       "  <thead>\n",
       "    <tr style=\"text-align: right;\">\n",
       "      <th></th>\n",
       "      <th>court</th>\n",
       "      <th>date</th>\n",
       "      <th>no</th>\n",
       "      <th>reason</th>\n",
       "      <th>judgement</th>\n",
       "      <th>type</th>\n",
       "      <th>mainText</th>\n",
       "      <th>relatedIssues</th>\n",
       "      <th>id</th>\n",
       "    </tr>\n",
       "    <tr>\n",
       "      <th>sys</th>\n",
       "      <th></th>\n",
       "      <th></th>\n",
       "      <th></th>\n",
       "      <th></th>\n",
       "      <th></th>\n",
       "      <th></th>\n",
       "      <th></th>\n",
       "      <th></th>\n",
       "      <th></th>\n",
       "    </tr>\n",
       "  </thead>\n",
       "  <tbody>\n",
       "    <tr>\n",
       "      <th>刑事</th>\n",
       "      <td>2709</td>\n",
       "      <td>2709</td>\n",
       "      <td>2709</td>\n",
       "      <td>2709</td>\n",
       "      <td>2709</td>\n",
       "      <td>2709</td>\n",
       "      <td>2709</td>\n",
       "      <td>2709</td>\n",
       "      <td>2709</td>\n",
       "    </tr>\n",
       "    <tr>\n",
       "      <th>民事</th>\n",
       "      <td>593</td>\n",
       "      <td>593</td>\n",
       "      <td>593</td>\n",
       "      <td>593</td>\n",
       "      <td>593</td>\n",
       "      <td>593</td>\n",
       "      <td>593</td>\n",
       "      <td>593</td>\n",
       "      <td>593</td>\n",
       "    </tr>\n",
       "  </tbody>\n",
       "</table>\n",
       "</div>"
      ],
      "text/plain": [
       "     court  date    no  reason  judgement  type  mainText  relatedIssues    id\n",
       "sys                                                                           \n",
       "刑事    2709  2709  2709    2709       2709  2709      2709           2709  2709\n",
       "民事     593   593   593     593        593   593       593            593   593"
      ]
     },
     "execution_count": 9,
     "metadata": {},
     "output_type": "execute_result"
    }
   ],
   "source": [
    "df.groupby('sys').count()"
   ]
  },
  {
   "cell_type": "code",
   "execution_count": 10,
   "metadata": {},
   "outputs": [
    {
     "data": {
      "text/plain": [
       "刑事    2709\n",
       "民事     593\n",
       "Name: sys, dtype: int64"
      ]
     },
     "execution_count": 10,
     "metadata": {},
     "output_type": "execute_result"
    }
   ],
   "source": [
    "df['sys'].value_counts()"
   ]
  },
  {
   "cell_type": "code",
   "execution_count": 49,
   "metadata": {},
   "outputs": [
    {
     "data": {
      "text/plain": [
       "公共危險        1437\n",
       "損害賠償         159\n",
       "侵權行為損害賠償     135\n",
       "竊盜           126\n",
       "聲請撤銷緩刑       125\n",
       "            ... \n",
       "背信             1\n",
       "回復繼承權          1\n",
       "返還保證金          1\n",
       "誣告             1\n",
       "侵入住宅           1\n",
       "Name: reason, Length: 233, dtype: int64"
      ]
     },
     "execution_count": 49,
     "metadata": {},
     "output_type": "execute_result"
    }
   ],
   "source": [
    "df['reason'].value_counts()"
   ]
  },
  {
   "cell_type": "markdown",
   "metadata": {},
   "source": [
    "## Counting reasons"
   ]
  },
  {
   "cell_type": "code",
   "execution_count": 12,
   "metadata": {},
   "outputs": [
    {
     "name": "stdout",
     "output_type": "stream",
     "text": [
      "公共危險 \t 1437\n",
      "損害賠償 \t 159\n",
      "侵權行為損害賠償 \t 135\n",
      "竊盜 \t 126\n",
      "聲請撤銷緩刑 \t 125\n",
      "過失傷害 \t 107\n",
      "毒品危害防制條例 \t 101\n",
      "公共危險等 \t 68\n",
      "詐欺 \t 58\n",
      "傷害 \t 46\n",
      "妨害性自主 \t 44\n",
      "監護宣告 \t 39\n",
      "偽造文書等 \t 38\n",
      "離婚等 \t 33\n",
      "業務過失傷害 \t 30\n",
      "聲請交付審判 \t 30\n",
      "離婚 \t 22\n",
      "偽造文書 \t 20\n",
      "妨害公務 \t 19\n",
      "傷害等 \t 19\n"
     ]
    }
   ],
   "source": [
    "for k, v in Counter(df['reason']).most_common(20):\n",
    "    print(k, '\\t', v)"
   ]
  },
  {
   "cell_type": "markdown",
   "metadata": {},
   "source": [
    "# Filtering Drunk Driving Cases\n",
    "```\n",
    "\"...最初撈出來的59萬筆資料包含許多雜訊，未必精準指涉酒駕事件。如因偵測到「酒精燈」、「酒精濃度測試單」而撈入，或是當事人酒後傷害他人等。因此，首先我們透過相關字詞的排列組合，篩選出真正的「酒駕」案件。經過測試，我們以「刑法第185條之3」、「不能安全駕駛」、「吐氣所含酒精濃度達每公升零點二五毫克以上」、「服用酒類」等字詞為篩選依據，初篩結果約51萬筆。\" by CNA\n",
    "```"
   ]
  },
  {
   "cell_type": "code",
   "execution_count": 13,
   "metadata": {},
   "outputs": [
    {
     "data": {
      "text/plain": [
       "(1576, 10)"
      ]
     },
     "execution_count": 13,
     "metadata": {},
     "output_type": "execute_result"
    }
   ],
   "source": [
    "df_185_3 = df[df['relatedIssues'].str.contains(\"刑法_185-3\")]\n",
    "df_185_3.shape"
   ]
  },
  {
   "cell_type": "code",
   "execution_count": 14,
   "metadata": {},
   "outputs": [
    {
     "data": {
      "text/html": [
       "<div>\n",
       "<style scoped>\n",
       "    .dataframe tbody tr th:only-of-type {\n",
       "        vertical-align: middle;\n",
       "    }\n",
       "\n",
       "    .dataframe tbody tr th {\n",
       "        vertical-align: top;\n",
       "    }\n",
       "\n",
       "    .dataframe thead th {\n",
       "        text-align: right;\n",
       "    }\n",
       "</style>\n",
       "<table border=\"1\" class=\"dataframe\">\n",
       "  <thead>\n",
       "    <tr style=\"text-align: right;\">\n",
       "      <th></th>\n",
       "      <th>court</th>\n",
       "      <th>date</th>\n",
       "      <th>no</th>\n",
       "      <th>sys</th>\n",
       "      <th>reason</th>\n",
       "      <th>judgement</th>\n",
       "      <th>type</th>\n",
       "      <th>mainText</th>\n",
       "      <th>relatedIssues</th>\n",
       "      <th>id</th>\n",
       "    </tr>\n",
       "  </thead>\n",
       "  <tbody>\n",
       "    <tr>\n",
       "      <th>16</th>\n",
       "      <td>臺灣士林地方法院</td>\n",
       "      <td>2013-06-28</td>\n",
       "      <td>102,審簡,444</td>\n",
       "      <td>刑事</td>\n",
       "      <td>妨害公務等</td>\n",
       "      <td>臺灣士林地方法院刑事簡易判決102年度審簡字第444號公訴人臺灣士林地方法院檢察署檢察官被告...</td>\n",
       "      <td>判決</td>\n",
       "      <td>陳景翰服用酒類，不能安全駕駛動力交通工具而駕駛，處有期徒刑貳月，如易科罰金，以新臺幣壹仟元折...</td>\n",
       "      <td>中華民國刑法_2_1;_中華民國刑法_2_1;_中華民國刑法_2_1;_中華民國刑法_2_1...</td>\n",
       "      <td>士林102審簡444</td>\n",
       "    </tr>\n",
       "    <tr>\n",
       "      <th>43</th>\n",
       "      <td>臺灣士林地方法院</td>\n",
       "      <td>2013-04-29</td>\n",
       "      <td>102,湖交簡,167</td>\n",
       "      <td>刑事</td>\n",
       "      <td>公共危險</td>\n",
       "      <td>臺灣士林地方法院刑事簡易判決102年度湖交簡字第167號聲請人臺灣士林地方法院檢察署檢察官被...</td>\n",
       "      <td>判決</td>\n",
       "      <td>李惠群服用酒類，不能安全駕駛動力交通工具而駕駛，處有期徒刑參月，如易科罰金，以新臺幣壹仟元折...</td>\n",
       "      <td>中華民國刑法_2_1;_中華民國刑法_2_1;_中華民國刑法_41_1;_中華民國刑法_18...</td>\n",
       "      <td>士林102湖交簡167</td>\n",
       "    </tr>\n",
       "    <tr>\n",
       "      <th>44</th>\n",
       "      <td>臺灣士林地方法院</td>\n",
       "      <td>2013-05-09</td>\n",
       "      <td>102,湖交簡,180</td>\n",
       "      <td>刑事</td>\n",
       "      <td>公共危險</td>\n",
       "      <td>臺灣士林地方法院刑事簡易判決102年度湖交簡字第180號聲請人臺灣士林地方法院檢察署檢察官被...</td>\n",
       "      <td>判決</td>\n",
       "      <td>張家豪服用酒類，不能安全駕駛動力交通工具而駕駛，處罰金新臺幣玖萬玖仟元，如易服勞役，以新臺幣...</td>\n",
       "      <td>中華民國刑法_2_1;_中華民國刑法_2_1;_中華民國刑法_42_3;_中華民國刑法_18...</td>\n",
       "      <td>士林102湖交簡180</td>\n",
       "    </tr>\n",
       "    <tr>\n",
       "      <th>45</th>\n",
       "      <td>臺灣士林地方法院</td>\n",
       "      <td>2013-07-05</td>\n",
       "      <td>102,湖交簡,262</td>\n",
       "      <td>刑事</td>\n",
       "      <td>公共危險</td>\n",
       "      <td>臺灣士林地方法院刑事簡易判決102年度湖交簡字第262號聲請人臺灣士林地方法院檢察署檢察官被...</td>\n",
       "      <td>判決</td>\n",
       "      <td>林仕凱服用酒類，不能安全駕駛動力交通工具而駕駛，處罰金新臺幣伍萬柒仟元，如易服勞役，以新臺幣...</td>\n",
       "      <td>中華民國刑法_2_1;_中華民國刑法_2_1;_中華民國刑法_42_3;_中華民國刑法_18...</td>\n",
       "      <td>士林102湖交簡262</td>\n",
       "    </tr>\n",
       "    <tr>\n",
       "      <th>46</th>\n",
       "      <td>臺灣士林地方法院</td>\n",
       "      <td>2013-06-17</td>\n",
       "      <td>102,湖交簡,263</td>\n",
       "      <td>刑事</td>\n",
       "      <td>公共危險</td>\n",
       "      <td>臺灣士林地方法院刑事簡易判決102年度湖交簡字第263號聲請人臺灣士林地方法院檢察署檢察官被...</td>\n",
       "      <td>判決</td>\n",
       "      <td>陳柏琳服用酒類，不能安全駕駛動力交通工具而駕駛，處拘役伍拾伍日，如易科罰金，以新台幣壹仟元折...</td>\n",
       "      <td>中華民國刑法_2_1;_中華民國刑法_2_1;_中華民國刑法_41_1;_中華民國刑法_18...</td>\n",
       "      <td>士林102湖交簡263</td>\n",
       "    </tr>\n",
       "  </tbody>\n",
       "</table>\n",
       "</div>"
      ],
      "text/plain": [
       "       court       date           no sys reason  \\\n",
       "16  臺灣士林地方法院 2013-06-28   102,審簡,444  刑事  妨害公務等   \n",
       "43  臺灣士林地方法院 2013-04-29  102,湖交簡,167  刑事   公共危險   \n",
       "44  臺灣士林地方法院 2013-05-09  102,湖交簡,180  刑事   公共危險   \n",
       "45  臺灣士林地方法院 2013-07-05  102,湖交簡,262  刑事   公共危險   \n",
       "46  臺灣士林地方法院 2013-06-17  102,湖交簡,263  刑事   公共危險   \n",
       "\n",
       "                                            judgement type  \\\n",
       "16  臺灣士林地方法院刑事簡易判決102年度審簡字第444號公訴人臺灣士林地方法院檢察署檢察官被告...   判決   \n",
       "43  臺灣士林地方法院刑事簡易判決102年度湖交簡字第167號聲請人臺灣士林地方法院檢察署檢察官被...   判決   \n",
       "44  臺灣士林地方法院刑事簡易判決102年度湖交簡字第180號聲請人臺灣士林地方法院檢察署檢察官被...   判決   \n",
       "45  臺灣士林地方法院刑事簡易判決102年度湖交簡字第262號聲請人臺灣士林地方法院檢察署檢察官被...   判決   \n",
       "46  臺灣士林地方法院刑事簡易判決102年度湖交簡字第263號聲請人臺灣士林地方法院檢察署檢察官被...   判決   \n",
       "\n",
       "                                             mainText  \\\n",
       "16  陳景翰服用酒類，不能安全駕駛動力交通工具而駕駛，處有期徒刑貳月，如易科罰金，以新臺幣壹仟元折...   \n",
       "43  李惠群服用酒類，不能安全駕駛動力交通工具而駕駛，處有期徒刑參月，如易科罰金，以新臺幣壹仟元折...   \n",
       "44  張家豪服用酒類，不能安全駕駛動力交通工具而駕駛，處罰金新臺幣玖萬玖仟元，如易服勞役，以新臺幣...   \n",
       "45  林仕凱服用酒類，不能安全駕駛動力交通工具而駕駛，處罰金新臺幣伍萬柒仟元，如易服勞役，以新臺幣...   \n",
       "46  陳柏琳服用酒類，不能安全駕駛動力交通工具而駕駛，處拘役伍拾伍日，如易科罰金，以新台幣壹仟元折...   \n",
       "\n",
       "                                        relatedIssues           id  \n",
       "16  中華民國刑法_2_1;_中華民國刑法_2_1;_中華民國刑法_2_1;_中華民國刑法_2_1...   士林102審簡444  \n",
       "43  中華民國刑法_2_1;_中華民國刑法_2_1;_中華民國刑法_41_1;_中華民國刑法_18...  士林102湖交簡167  \n",
       "44  中華民國刑法_2_1;_中華民國刑法_2_1;_中華民國刑法_42_3;_中華民國刑法_18...  士林102湖交簡180  \n",
       "45  中華民國刑法_2_1;_中華民國刑法_2_1;_中華民國刑法_42_3;_中華民國刑法_18...  士林102湖交簡262  \n",
       "46  中華民國刑法_2_1;_中華民國刑法_2_1;_中華民國刑法_41_1;_中華民國刑法_18...  士林102湖交簡263  "
      ]
     },
     "execution_count": 14,
     "metadata": {},
     "output_type": "execute_result"
    }
   ],
   "source": [
    "df_185_3.head()"
   ]
  },
  {
   "cell_type": "code",
   "execution_count": 15,
   "metadata": {},
   "outputs": [
    {
     "data": {
      "text/plain": [
       "Counter({False: 1726, True: 1576})"
      ]
     },
     "execution_count": 15,
     "metadata": {},
     "output_type": "execute_result"
    }
   ],
   "source": [
    "Counter(df['relatedIssues'].str.contains(\"刑法_185-3\"))"
   ]
  },
  {
   "cell_type": "code",
   "execution_count": 50,
   "metadata": {},
   "outputs": [
    {
     "data": {
      "text/plain": [
       "Counter({True: 343, False: 1233})"
      ]
     },
     "execution_count": 50,
     "metadata": {},
     "output_type": "execute_result"
    }
   ],
   "source": [
    "Counter(df_185_3['mainText'].str.contains('不能安全駕駛'))"
   ]
  },
  {
   "cell_type": "code",
   "execution_count": 18,
   "metadata": {},
   "outputs": [
    {
     "data": {
      "text/html": [
       "<div>\n",
       "<style scoped>\n",
       "    .dataframe tbody tr th:only-of-type {\n",
       "        vertical-align: middle;\n",
       "    }\n",
       "\n",
       "    .dataframe tbody tr th {\n",
       "        vertical-align: top;\n",
       "    }\n",
       "\n",
       "    .dataframe thead th {\n",
       "        text-align: right;\n",
       "    }\n",
       "</style>\n",
       "<table border=\"1\" class=\"dataframe\">\n",
       "  <thead>\n",
       "    <tr style=\"text-align: right;\">\n",
       "      <th></th>\n",
       "      <th>court</th>\n",
       "      <th>date</th>\n",
       "      <th>no</th>\n",
       "      <th>sys</th>\n",
       "      <th>reason</th>\n",
       "      <th>judgement</th>\n",
       "      <th>type</th>\n",
       "      <th>mainText</th>\n",
       "      <th>relatedIssues</th>\n",
       "      <th>id</th>\n",
       "    </tr>\n",
       "  </thead>\n",
       "  <tbody>\n",
       "    <tr>\n",
       "      <th>16</th>\n",
       "      <td>臺灣士林地方法院</td>\n",
       "      <td>2013-06-28</td>\n",
       "      <td>102,審簡,444</td>\n",
       "      <td>刑事</td>\n",
       "      <td>妨害公務等</td>\n",
       "      <td>臺灣士林地方法院刑事簡易判決102年度審簡字第444號公訴人臺灣士林地方法院檢察署檢察官被告...</td>\n",
       "      <td>判決</td>\n",
       "      <td>陳景翰服用酒類，不能安全駕駛動力交通工具而駕駛，處有期徒刑貳月，如易科罰金，以新臺幣壹仟元折...</td>\n",
       "      <td>中華民國刑法_2_1;_中華民國刑法_2_1;_中華民國刑法_2_1;_中華民國刑法_2_1...</td>\n",
       "      <td>士林102審簡444</td>\n",
       "    </tr>\n",
       "    <tr>\n",
       "      <th>43</th>\n",
       "      <td>臺灣士林地方法院</td>\n",
       "      <td>2013-04-29</td>\n",
       "      <td>102,湖交簡,167</td>\n",
       "      <td>刑事</td>\n",
       "      <td>公共危險</td>\n",
       "      <td>臺灣士林地方法院刑事簡易判決102年度湖交簡字第167號聲請人臺灣士林地方法院檢察署檢察官被...</td>\n",
       "      <td>判決</td>\n",
       "      <td>李惠群服用酒類，不能安全駕駛動力交通工具而駕駛，處有期徒刑參月，如易科罰金，以新臺幣壹仟元折...</td>\n",
       "      <td>中華民國刑法_2_1;_中華民國刑法_2_1;_中華民國刑法_41_1;_中華民國刑法_18...</td>\n",
       "      <td>士林102湖交簡167</td>\n",
       "    </tr>\n",
       "    <tr>\n",
       "      <th>44</th>\n",
       "      <td>臺灣士林地方法院</td>\n",
       "      <td>2013-05-09</td>\n",
       "      <td>102,湖交簡,180</td>\n",
       "      <td>刑事</td>\n",
       "      <td>公共危險</td>\n",
       "      <td>臺灣士林地方法院刑事簡易判決102年度湖交簡字第180號聲請人臺灣士林地方法院檢察署檢察官被...</td>\n",
       "      <td>判決</td>\n",
       "      <td>張家豪服用酒類，不能安全駕駛動力交通工具而駕駛，處罰金新臺幣玖萬玖仟元，如易服勞役，以新臺幣...</td>\n",
       "      <td>中華民國刑法_2_1;_中華民國刑法_2_1;_中華民國刑法_42_3;_中華民國刑法_18...</td>\n",
       "      <td>士林102湖交簡180</td>\n",
       "    </tr>\n",
       "    <tr>\n",
       "      <th>45</th>\n",
       "      <td>臺灣士林地方法院</td>\n",
       "      <td>2013-07-05</td>\n",
       "      <td>102,湖交簡,262</td>\n",
       "      <td>刑事</td>\n",
       "      <td>公共危險</td>\n",
       "      <td>臺灣士林地方法院刑事簡易判決102年度湖交簡字第262號聲請人臺灣士林地方法院檢察署檢察官被...</td>\n",
       "      <td>判決</td>\n",
       "      <td>林仕凱服用酒類，不能安全駕駛動力交通工具而駕駛，處罰金新臺幣伍萬柒仟元，如易服勞役，以新臺幣...</td>\n",
       "      <td>中華民國刑法_2_1;_中華民國刑法_2_1;_中華民國刑法_42_3;_中華民國刑法_18...</td>\n",
       "      <td>士林102湖交簡262</td>\n",
       "    </tr>\n",
       "    <tr>\n",
       "      <th>46</th>\n",
       "      <td>臺灣士林地方法院</td>\n",
       "      <td>2013-06-17</td>\n",
       "      <td>102,湖交簡,263</td>\n",
       "      <td>刑事</td>\n",
       "      <td>公共危險</td>\n",
       "      <td>臺灣士林地方法院刑事簡易判決102年度湖交簡字第263號聲請人臺灣士林地方法院檢察署檢察官被...</td>\n",
       "      <td>判決</td>\n",
       "      <td>陳柏琳服用酒類，不能安全駕駛動力交通工具而駕駛，處拘役伍拾伍日，如易科罰金，以新台幣壹仟元折...</td>\n",
       "      <td>中華民國刑法_2_1;_中華民國刑法_2_1;_中華民國刑法_41_1;_中華民國刑法_18...</td>\n",
       "      <td>士林102湖交簡263</td>\n",
       "    </tr>\n",
       "  </tbody>\n",
       "</table>\n",
       "</div>"
      ],
      "text/plain": [
       "       court       date           no sys reason  \\\n",
       "16  臺灣士林地方法院 2013-06-28   102,審簡,444  刑事  妨害公務等   \n",
       "43  臺灣士林地方法院 2013-04-29  102,湖交簡,167  刑事   公共危險   \n",
       "44  臺灣士林地方法院 2013-05-09  102,湖交簡,180  刑事   公共危險   \n",
       "45  臺灣士林地方法院 2013-07-05  102,湖交簡,262  刑事   公共危險   \n",
       "46  臺灣士林地方法院 2013-06-17  102,湖交簡,263  刑事   公共危險   \n",
       "\n",
       "                                            judgement type  \\\n",
       "16  臺灣士林地方法院刑事簡易判決102年度審簡字第444號公訴人臺灣士林地方法院檢察署檢察官被告...   判決   \n",
       "43  臺灣士林地方法院刑事簡易判決102年度湖交簡字第167號聲請人臺灣士林地方法院檢察署檢察官被...   判決   \n",
       "44  臺灣士林地方法院刑事簡易判決102年度湖交簡字第180號聲請人臺灣士林地方法院檢察署檢察官被...   判決   \n",
       "45  臺灣士林地方法院刑事簡易判決102年度湖交簡字第262號聲請人臺灣士林地方法院檢察署檢察官被...   判決   \n",
       "46  臺灣士林地方法院刑事簡易判決102年度湖交簡字第263號聲請人臺灣士林地方法院檢察署檢察官被...   判決   \n",
       "\n",
       "                                             mainText  \\\n",
       "16  陳景翰服用酒類，不能安全駕駛動力交通工具而駕駛，處有期徒刑貳月，如易科罰金，以新臺幣壹仟元折...   \n",
       "43  李惠群服用酒類，不能安全駕駛動力交通工具而駕駛，處有期徒刑參月，如易科罰金，以新臺幣壹仟元折...   \n",
       "44  張家豪服用酒類，不能安全駕駛動力交通工具而駕駛，處罰金新臺幣玖萬玖仟元，如易服勞役，以新臺幣...   \n",
       "45  林仕凱服用酒類，不能安全駕駛動力交通工具而駕駛，處罰金新臺幣伍萬柒仟元，如易服勞役，以新臺幣...   \n",
       "46  陳柏琳服用酒類，不能安全駕駛動力交通工具而駕駛，處拘役伍拾伍日，如易科罰金，以新台幣壹仟元折...   \n",
       "\n",
       "                                        relatedIssues           id  \n",
       "16  中華民國刑法_2_1;_中華民國刑法_2_1;_中華民國刑法_2_1;_中華民國刑法_2_1...   士林102審簡444  \n",
       "43  中華民國刑法_2_1;_中華民國刑法_2_1;_中華民國刑法_41_1;_中華民國刑法_18...  士林102湖交簡167  \n",
       "44  中華民國刑法_2_1;_中華民國刑法_2_1;_中華民國刑法_42_3;_中華民國刑法_18...  士林102湖交簡180  \n",
       "45  中華民國刑法_2_1;_中華民國刑法_2_1;_中華民國刑法_42_3;_中華民國刑法_18...  士林102湖交簡262  \n",
       "46  中華民國刑法_2_1;_中華民國刑法_2_1;_中華民國刑法_41_1;_中華民國刑法_18...  士林102湖交簡263  "
      ]
     },
     "execution_count": 18,
     "metadata": {},
     "output_type": "execute_result"
    }
   ],
   "source": [
    "df_drunk_drive = df_185_3[df_185_3['mainText'].str.contains('不能安全駕駛')]\n",
    "df_drunk_drive.head()"
   ]
  },
  {
   "cell_type": "code",
   "execution_count": 19,
   "metadata": {},
   "outputs": [
    {
     "name": "stdout",
     "output_type": "stream",
     "text": [
      "吳文焄服用酒類，不能安全駕駛動力交通工具而駕駛，處有期徒刑參月，如易科罰金，以新臺幣壹仟元折算壹日。\n",
      "鄭智華服用酒類，不能安全駕駛動力交通工具而駕駛，因而致人於死，累犯，處有期徒刑壹年捌月。又駕駛動力交通工具肇事，致人於死而逃逸，累犯，處有期徒刑柒月。應執行有期徒刑壹年拾月。\n",
      "張榮裕服用酒類，不能安全駕駛動力交通工具而駕駛，累犯，處有期徒刑拾壹月。\n",
      "謝善宇犯刑法第一百八十五條之三第一項第二款之不能安全駕駛動力交通工具罪，累犯，處有期徒刑參月，如易科罰金，以新臺幣壹仟元折算壹日。\n",
      "葉海服用酒類，不能安全駕駛動力交通工具而駕駛，處有期徒刑肆月，如易科罰金，以新臺幣壹仟元折算壹日。又駕駛動力交通工具肇事，致人受傷而逃逸，處有期徒刑捌月。\n",
      "鍾秀群服用酒類，不能安全駕駛動力交通工具而駕駛，處有期徒刑貳月，如易科罰金，以新臺幣壹仟元折算壹日。\n",
      "何竣卿服用酒類，不能安全駕駛動力交通工具而駕駛，處有期徒刑參月，如易科罰金，以新臺幣壹仟元折算壹日；又駕駛動力交通工具肇事，致人受傷而逃逸，處有期徒刑陸月，如易科罰金，以新臺幣壹仟元折算壹日。應執行有期徒刑捌月，如易科罰金，以新臺幣壹仟元折算壹日。緩刑貳年，並應於判決確定後陸個月內向公庫支付新臺幣伍萬元。\n",
      "楊智宇服用酒類，不能安全駕駛動力交通工具而駕駛，處有期徒刑參月，如易科罰金，以新臺幣壹仟元折算壹日。\n",
      "程文傑服用酒類，不能安全駕駛動力交通工具而駕駛，處拘役伍拾玖日，如易科罰金，以新臺幣壹仟元折算壹日。\n",
      "劉文慶服用酒類，不能安全駕駛動力交通工具而駕駛，處罰金新臺幣柒萬元，如易服勞役，以新臺幣壹仟元折算壹日。\n",
      "陳嘉川犯不能安全駕駛動力交通工具罪，處有期徒刑參月，如易科罰金，以新臺幣壹仟元折算壹日。\n",
      "原判決撤銷。\n",
      "甲○○犯不能安全駕駛動力交通工具罪，處罰金新臺幣陸萬元，如易服勞役，以新臺幣壹仟元折算壹日。\n",
      "原判決撤銷。\n",
      "孫天祥服用酒類，不能安全駕駛動力交通工具而駕駛，科罰金新臺幣陸萬元，如易服勞役，以新臺幣壹仟元折算壹日。\n",
      "原判決撤銷。\n",
      "甲○○服用酒類，不能安全駕駛動力交通工具而駕駛，處罰金新臺幣柒萬元，如易服勞役，以新臺幣壹仟元折算壹日。\n",
      "原判決撤銷。\n",
      "甲○○犯不能安全駕駛動力交通工具罪，處有期徒刑貳月，如易科罰金，以新臺幣壹仟元折算壹日。\n",
      "阮觀璽犯刑法第一百八十五條之三第一項第二款之服用酒類不能安全駕駛動力交通工具罪，處有期徒刑肆月，併科罰金新臺幣壹萬元，有期徒刑如易科罰金，罰金如易服勞役，均以新臺幣壹仟元折算壹日。\n",
      "許嘉境竊盜，累犯，處有期徒刑伍月，如易科罰金，以新臺幣壹仟元折算壹日；扣案之鑰匙壹支沒收。又駕駛動力交通工具而服用毒品，致不能安全駕駛，累犯，處有期徒刑參月，如易科罰金，以新臺幣壹仟元折算壹日。又汽車駕駛人，吸食毒品駕車，因過失傷害人，處拘役參拾日，如易科罰金，以新臺幣壹仟元折算壹日。有期徒刑部分應執行有期徒刑陸月，如易科罰金，以新臺幣壹仟元折算壹日。\n",
      "乙○○被訴不能安全駕駛動力交通工具部分無罪。\n",
      "被訴過失傷害部分公訴不受理。\n",
      "朱宏裕服用酒類，不能安全駕駛動力交通工具而駕駛，累犯，處有期徒刑陸月，如易科罰金，以新臺幣壹仟元折算壹日。\n",
      "陳世豪犯不能安全駕駛動力交通工具罪，累犯，更定其刑為有期徒刑參月，如易科罰金，以新臺幣壹仟元折算壹日。\n"
     ]
    }
   ],
   "source": [
    "for text in df_drunk_drive['mainText'][-20:]:\n",
    "    print(text)"
   ]
  },
  {
   "cell_type": "code",
   "execution_count": 20,
   "metadata": {},
   "outputs": [
    {
     "name": "stdout",
     "output_type": "stream",
     "text": [
      "(343, 10)\n",
      "公共危險             312\n",
      "公共危險等             12\n",
      "違背安全駕駛             7\n",
      "妨害公務等              3\n",
      "偽造文書等              2\n",
      "過失傷害等              1\n",
      "違反槍砲彈藥刀械管制條例等      1\n",
      "更定其刑               1\n",
      "過失致死等              1\n",
      "重傷害                1\n",
      "竊盜等                1\n",
      "強盜等                1\n",
      "Name: reason, dtype: int64\n"
     ]
    },
    {
     "data": {
      "text/plain": [
       "Counter({2013: 273, 2014: 51, 2015: 9, 2017: 4, 2016: 3, 2018: 3})"
      ]
     },
     "execution_count": 20,
     "metadata": {},
     "output_type": "execute_result"
    }
   ],
   "source": [
    "import datetime as dt\n",
    "print(df_drunk_drive.shape)\n",
    "print(df_drunk_drive['reason'].value_counts())\n",
    "Counter(df_drunk_drive['date'].dt.year)"
   ]
  },
  {
   "cell_type": "markdown",
   "metadata": {},
   "source": [
    "# Coverting text to value"
   ]
  },
  {
   "cell_type": "markdown",
   "metadata": {},
   "source": [
    "## Seperating fines and imprison days"
   ]
  },
  {
   "cell_type": "code",
   "execution_count": 21,
   "metadata": {},
   "outputs": [],
   "source": [
    "\n",
    "#鎖定「不能安全駕駛罪」用詞\n",
    "a1 = \"(交通工具(而)*[，,，]*有*(吐氣|血液中)(所含)*酒精濃度達(每公升|百分之)*零點(貳伍|二五|伍伍|五五)(毫克)*以上(之情形)*|\"\n",
    "a2 = \"(不能安全駕駛)*(而駕駛)*動力交通工具罪*(而駕駛)*者*)\"\n",
    "\n",
    "\n",
    "#鎖定累犯註記、判刑（拘役、有期徒刑）用詞\n",
    "b1 = \"[，,，](累犯)*(共*罪)*[，,，]*[各均有]*處*[,，]*(有期徒*刑徒*|拘役)\"\n",
    "b2 = \"[，,，](累犯)*(共*罪)*[，,，]*[各均有]*[處科]*[,，]*罰金(新[台臺]幣)*\"\n",
    "\n",
    "\n",
    "#鎖定處刑用詞\n",
    "c1 = \"[一二三四五六七八九十壹貳參肆伍陸柒捌玖拾廿卅１２３４５６７８９０]*(年|個*月|日)\"\n",
    "c2 = \"[一二三四五六七八九十壹貳參肆伍陸柒捌玖拾廿卅百佰千仟萬１２３４５６７８９０]*元*\"\n",
    "\n",
    "\n",
    "#找出剝奪自由刑之模式組合\n",
    "findimprison = a1+a2+b1+c1\n",
    "\n",
    "\n",
    "#找出罰金之模式組合\n",
    "findf = a1+a2+b2+c2\n",
    "\n",
    "#無罪的模式組合\n",
    "d = \"[，,，、，]*部*[分份]*[，,，、，]*均*無罪\"\n",
    "findn = a2[:-1]+d\n",
    "\n",
    "\n",
    "#把非刑期、罰金的描述都刪掉（很暴力）\n",
    "rep = \"情形|罰金|科|處|新[台臺]幣|銀|元|不能安全|駕駛|動力|交通工具|而|吐氣|所含|酒精濃度|達|每公升.*毫克|以上|而|者|,|，|、.*|；.*|。.*|累犯|共.罪|有期徒*刑徒*|罪|拘役|過失|如易科.*|被訴.*|應執行.*|緩刑.*|各|均|部[份分].*|共|有|之\""
   ]
  },
  {
   "cell_type": "code",
   "execution_count": 22,
   "metadata": {},
   "outputs": [
    {
     "name": "stdout",
     "output_type": "stream",
     "text": [
      "343\n",
      "343\n"
     ]
    }
   ],
   "source": [
    "import re\n",
    "result_imprison_text = []\n",
    "result_penalty_text = []\n",
    "\n",
    "for i in df_drunk_drive['judgement']:    \n",
    "    if bool(re.search(findimprison, i)):\n",
    "        r  = re.sub(rep,\"\",re.search(findimprison, i).group())\n",
    "        result_imprison_text.append(r)\n",
    "        result_penalty_text.append('')\n",
    "        \n",
    "    elif bool(re.search(findf,i)):\n",
    "        r  = re.sub(rep,\"\",re.search(findf,i).group())\n",
    "        result_imprison_text.append(\"\")\n",
    "        result_penalty_text.append(r)    \n",
    "        \n",
    "    elif bool(re.search(findn,i)):\n",
    "        result_imprison_text.append(\"無罪\")\n",
    "        result_penalty_text.append(\"\")        \n",
    "    else:\n",
    "        result_imprison_text.append(\"\")\n",
    "        result_penalty_text.append(\"\")\n",
    "print(len(result_imprison_text))\n",
    "print(len(result_penalty_text))"
   ]
  },
  {
   "cell_type": "code",
   "execution_count": 23,
   "metadata": {},
   "outputs": [
    {
     "data": {
      "text/plain": [
       "['', '', '玖萬玖仟', '伍萬柒仟', '', '', '', '', '', '壹拾萬柒仟']"
      ]
     },
     "execution_count": 23,
     "metadata": {},
     "output_type": "execute_result"
    }
   ],
   "source": [
    "result_penalty_text[:10]"
   ]
  },
  {
   "cell_type": "markdown",
   "metadata": {},
   "source": [
    "## Processing fines value"
   ]
  },
  {
   "cell_type": "code",
   "execution_count": 51,
   "metadata": {},
   "outputs": [
    {
     "name": "stdout",
     "output_type": "stream",
     "text": [
      "{'inputText': '两百玖十玖万玖千玖百', 'replacedText': '2999900', 'CHNumberStringList': ['二百九十九万九千九百'], 'digitsStringList': ['2999900'], 'errorWordList': [], 'errorMsgList': []}\n"
     ]
    }
   ],
   "source": [
    "# %pip install chinese2digits\n",
    "import chinese2digits as c2d\n",
    "print(c2d.takeNumberFromString('两百玖十玖万玖千玖百'))"
   ]
  },
  {
   "cell_type": "code",
   "execution_count": 52,
   "metadata": {},
   "outputs": [],
   "source": [
    "# %pip install hanziconv\n",
    "from hanziconv import HanziConv\n",
    "\n",
    "result_fine = [c2d.takeNumberFromString(HanziConv.toSimplified(m))['replacedText'] if len(m)>0 else 0 for m in result_penalty_text]\n",
    "print(result_fine[:10])"
   ]
  },
  {
   "cell_type": "code",
   "execution_count": 53,
   "metadata": {},
   "outputs": [],
   "source": [
    "df_drunk_drive['fine'] = result_fine\n",
    "df_drunk_drive['fineText'] = result_penalty_text"
   ]
  },
  {
   "cell_type": "code",
   "execution_count": 54,
   "metadata": {},
   "outputs": [
    {
     "data": {
      "text/html": [
       "<div>\n",
       "<style scoped>\n",
       "    .dataframe tbody tr th:only-of-type {\n",
       "        vertical-align: middle;\n",
       "    }\n",
       "\n",
       "    .dataframe tbody tr th {\n",
       "        vertical-align: top;\n",
       "    }\n",
       "\n",
       "    .dataframe thead th {\n",
       "        text-align: right;\n",
       "    }\n",
       "</style>\n",
       "<table border=\"1\" class=\"dataframe\">\n",
       "  <thead>\n",
       "    <tr style=\"text-align: right;\">\n",
       "      <th></th>\n",
       "      <th>court</th>\n",
       "      <th>date</th>\n",
       "      <th>no</th>\n",
       "      <th>sys</th>\n",
       "      <th>reason</th>\n",
       "      <th>judgement</th>\n",
       "      <th>type</th>\n",
       "      <th>mainText</th>\n",
       "      <th>relatedIssues</th>\n",
       "      <th>id</th>\n",
       "      <th>fine</th>\n",
       "      <th>fineText</th>\n",
       "      <th>imprison</th>\n",
       "      <th>imprisonText</th>\n",
       "      <th>opinions</th>\n",
       "    </tr>\n",
       "  </thead>\n",
       "  <tbody>\n",
       "    <tr>\n",
       "      <th>16</th>\n",
       "      <td>臺灣士林地方法院</td>\n",
       "      <td>2013-06-28</td>\n",
       "      <td>102,審簡,444</td>\n",
       "      <td>刑事</td>\n",
       "      <td>妨害公務等</td>\n",
       "      <td>臺灣士林地方法院刑事簡易判決102年度審簡字第444號公訴人臺灣士林地方法院檢察署檢察官被告...</td>\n",
       "      <td>判決</td>\n",
       "      <td>陳景翰服用酒類，不能安全駕駛動力交通工具而駕駛，處有期徒刑貳月，如易科罰金，以新臺幣壹仟元折...</td>\n",
       "      <td>中華民國刑法_2_1;_中華民國刑法_2_1;_中華民國刑法_2_1;_中華民國刑法_2_1...</td>\n",
       "      <td>士林102審簡444</td>\n",
       "      <td>0</td>\n",
       "      <td></td>\n",
       "      <td>60</td>\n",
       "      <td>貳月</td>\n",
       "      <td>一、本件犯罪事實及證據除均引用附件檢察官起訴書之記載（詳附件）外，另就證據部分補充：被告陳景...</td>\n",
       "    </tr>\n",
       "    <tr>\n",
       "      <th>43</th>\n",
       "      <td>臺灣士林地方法院</td>\n",
       "      <td>2013-04-29</td>\n",
       "      <td>102,湖交簡,167</td>\n",
       "      <td>刑事</td>\n",
       "      <td>公共危險</td>\n",
       "      <td>臺灣士林地方法院刑事簡易判決102年度湖交簡字第167號聲請人臺灣士林地方法院檢察署檢察官被...</td>\n",
       "      <td>判決</td>\n",
       "      <td>李惠群服用酒類，不能安全駕駛動力交通工具而駕駛，處有期徒刑參月，如易科罰金，以新臺幣壹仟元折...</td>\n",
       "      <td>中華民國刑法_2_1;_中華民國刑法_2_1;_中華民國刑法_41_1;_中華民國刑法_18...</td>\n",
       "      <td>士林102湖交簡167</td>\n",
       "      <td>0</td>\n",
       "      <td></td>\n",
       "      <td>90</td>\n",
       "      <td>參月</td>\n",
       "      <td>一、本件犯罪事實、證據及應適用之法條均引用檢察官聲請簡易判決處刑書之記載（如附件）。另犯罪事...</td>\n",
       "    </tr>\n",
       "    <tr>\n",
       "      <th>44</th>\n",
       "      <td>臺灣士林地方法院</td>\n",
       "      <td>2013-05-09</td>\n",
       "      <td>102,湖交簡,180</td>\n",
       "      <td>刑事</td>\n",
       "      <td>公共危險</td>\n",
       "      <td>臺灣士林地方法院刑事簡易判決102年度湖交簡字第180號聲請人臺灣士林地方法院檢察署檢察官被...</td>\n",
       "      <td>判決</td>\n",
       "      <td>張家豪服用酒類，不能安全駕駛動力交通工具而駕駛，處罰金新臺幣玖萬玖仟元，如易服勞役，以新臺幣...</td>\n",
       "      <td>中華民國刑法_2_1;_中華民國刑法_2_1;_中華民國刑法_42_3;_中華民國刑法_18...</td>\n",
       "      <td>士林102湖交簡180</td>\n",
       "      <td>99000</td>\n",
       "      <td>玖萬玖仟</td>\n",
       "      <td>0</td>\n",
       "      <td></td>\n",
       "      <td>一、本件犯罪事實及證據均引用附件檢察官聲請簡易判決處刑書之記載。二、查被告張家豪行為後，刑法...</td>\n",
       "    </tr>\n",
       "    <tr>\n",
       "      <th>45</th>\n",
       "      <td>臺灣士林地方法院</td>\n",
       "      <td>2013-07-05</td>\n",
       "      <td>102,湖交簡,262</td>\n",
       "      <td>刑事</td>\n",
       "      <td>公共危險</td>\n",
       "      <td>臺灣士林地方法院刑事簡易判決102年度湖交簡字第262號聲請人臺灣士林地方法院檢察署檢察官被...</td>\n",
       "      <td>判決</td>\n",
       "      <td>林仕凱服用酒類，不能安全駕駛動力交通工具而駕駛，處罰金新臺幣伍萬柒仟元，如易服勞役，以新臺幣...</td>\n",
       "      <td>中華民國刑法_2_1;_中華民國刑法_2_1;_中華民國刑法_42_3;_中華民國刑法_18...</td>\n",
       "      <td>士林102湖交簡262</td>\n",
       "      <td>57000</td>\n",
       "      <td>伍萬柒仟</td>\n",
       "      <td>0</td>\n",
       "      <td></td>\n",
       "      <td>一、本件犯罪事實及證據均引用附件檢察官聲請簡易判決處刑書之記載。二、查被告林仕凱行為後，刑法...</td>\n",
       "    </tr>\n",
       "    <tr>\n",
       "      <th>46</th>\n",
       "      <td>臺灣士林地方法院</td>\n",
       "      <td>2013-06-17</td>\n",
       "      <td>102,湖交簡,263</td>\n",
       "      <td>刑事</td>\n",
       "      <td>公共危險</td>\n",
       "      <td>臺灣士林地方法院刑事簡易判決102年度湖交簡字第263號聲請人臺灣士林地方法院檢察署檢察官被...</td>\n",
       "      <td>判決</td>\n",
       "      <td>陳柏琳服用酒類，不能安全駕駛動力交通工具而駕駛，處拘役伍拾伍日，如易科罰金，以新台幣壹仟元折...</td>\n",
       "      <td>中華民國刑法_2_1;_中華民國刑法_2_1;_中華民國刑法_41_1;_中華民國刑法_18...</td>\n",
       "      <td>士林102湖交簡263</td>\n",
       "      <td>0</td>\n",
       "      <td></td>\n",
       "      <td>55</td>\n",
       "      <td>伍拾伍日</td>\n",
       "      <td>一、本件犯罪事實、證據及應適用之法條除引用檢察官聲請簡易判決處刑書之記載（如附件，與起訴書有...</td>\n",
       "    </tr>\n",
       "  </tbody>\n",
       "</table>\n",
       "</div>"
      ],
      "text/plain": [
       "       court       date           no sys reason  \\\n",
       "16  臺灣士林地方法院 2013-06-28   102,審簡,444  刑事  妨害公務等   \n",
       "43  臺灣士林地方法院 2013-04-29  102,湖交簡,167  刑事   公共危險   \n",
       "44  臺灣士林地方法院 2013-05-09  102,湖交簡,180  刑事   公共危險   \n",
       "45  臺灣士林地方法院 2013-07-05  102,湖交簡,262  刑事   公共危險   \n",
       "46  臺灣士林地方法院 2013-06-17  102,湖交簡,263  刑事   公共危險   \n",
       "\n",
       "                                            judgement type  \\\n",
       "16  臺灣士林地方法院刑事簡易判決102年度審簡字第444號公訴人臺灣士林地方法院檢察署檢察官被告...   判決   \n",
       "43  臺灣士林地方法院刑事簡易判決102年度湖交簡字第167號聲請人臺灣士林地方法院檢察署檢察官被...   判決   \n",
       "44  臺灣士林地方法院刑事簡易判決102年度湖交簡字第180號聲請人臺灣士林地方法院檢察署檢察官被...   判決   \n",
       "45  臺灣士林地方法院刑事簡易判決102年度湖交簡字第262號聲請人臺灣士林地方法院檢察署檢察官被...   判決   \n",
       "46  臺灣士林地方法院刑事簡易判決102年度湖交簡字第263號聲請人臺灣士林地方法院檢察署檢察官被...   判決   \n",
       "\n",
       "                                             mainText  \\\n",
       "16  陳景翰服用酒類，不能安全駕駛動力交通工具而駕駛，處有期徒刑貳月，如易科罰金，以新臺幣壹仟元折...   \n",
       "43  李惠群服用酒類，不能安全駕駛動力交通工具而駕駛，處有期徒刑參月，如易科罰金，以新臺幣壹仟元折...   \n",
       "44  張家豪服用酒類，不能安全駕駛動力交通工具而駕駛，處罰金新臺幣玖萬玖仟元，如易服勞役，以新臺幣...   \n",
       "45  林仕凱服用酒類，不能安全駕駛動力交通工具而駕駛，處罰金新臺幣伍萬柒仟元，如易服勞役，以新臺幣...   \n",
       "46  陳柏琳服用酒類，不能安全駕駛動力交通工具而駕駛，處拘役伍拾伍日，如易科罰金，以新台幣壹仟元折...   \n",
       "\n",
       "                                        relatedIssues           id   fine  \\\n",
       "16  中華民國刑法_2_1;_中華民國刑法_2_1;_中華民國刑法_2_1;_中華民國刑法_2_1...   士林102審簡444      0   \n",
       "43  中華民國刑法_2_1;_中華民國刑法_2_1;_中華民國刑法_41_1;_中華民國刑法_18...  士林102湖交簡167      0   \n",
       "44  中華民國刑法_2_1;_中華民國刑法_2_1;_中華民國刑法_42_3;_中華民國刑法_18...  士林102湖交簡180  99000   \n",
       "45  中華民國刑法_2_1;_中華民國刑法_2_1;_中華民國刑法_42_3;_中華民國刑法_18...  士林102湖交簡262  57000   \n",
       "46  中華民國刑法_2_1;_中華民國刑法_2_1;_中華民國刑法_41_1;_中華民國刑法_18...  士林102湖交簡263      0   \n",
       "\n",
       "   fineText  imprison imprisonText  \\\n",
       "16                 60           貳月   \n",
       "43                 90           參月   \n",
       "44     玖萬玖仟         0                \n",
       "45     伍萬柒仟         0                \n",
       "46                 55         伍拾伍日   \n",
       "\n",
       "                                             opinions  \n",
       "16  一、本件犯罪事實及證據除均引用附件檢察官起訴書之記載（詳附件）外，另就證據部分補充：被告陳景...  \n",
       "43  一、本件犯罪事實、證據及應適用之法條均引用檢察官聲請簡易判決處刑書之記載（如附件）。另犯罪事...  \n",
       "44  一、本件犯罪事實及證據均引用附件檢察官聲請簡易判決處刑書之記載。二、查被告張家豪行為後，刑法...  \n",
       "45  一、本件犯罪事實及證據均引用附件檢察官聲請簡易判決處刑書之記載。二、查被告林仕凱行為後，刑法...  \n",
       "46  一、本件犯罪事實、證據及應適用之法條除引用檢察官聲請簡易判決處刑書之記載（如附件，與起訴書有...  "
      ]
     },
     "execution_count": 54,
     "metadata": {},
     "output_type": "execute_result"
    }
   ],
   "source": [
    "df_drunk_drive.head()"
   ]
  },
  {
   "cell_type": "markdown",
   "metadata": {},
   "source": [
    "## Processing day values"
   ]
  },
  {
   "cell_type": "code",
   "execution_count": 59,
   "metadata": {},
   "outputs": [
    {
     "data": {
      "text/plain": [
       "['貳月', '參月', '', '', '伍拾伍日', '參月', '貳月', '肆拾日', '參月', '']"
      ]
     },
     "execution_count": 59,
     "metadata": {},
     "output_type": "execute_result"
    }
   ],
   "source": [
    "result_imprison_text[:10]"
   ]
  },
  {
   "cell_type": "code",
   "execution_count": null,
   "metadata": {},
   "outputs": [],
   "source": [
    "s = \"肆月貳拾日\"\n",
    "re.search()"
   ]
  },
  {
   "cell_type": "code",
   "execution_count": 35,
   "metadata": {},
   "outputs": [
    {
     "data": {
      "text/plain": [
       "7"
      ]
     },
     "execution_count": 35,
     "metadata": {},
     "output_type": "execute_result"
    }
   ],
   "source": [
    "numTW = ['壹','貳','參','肆','伍','陸','柒','捌','玖','拾','廿','卅','一','二','三','四','五','六','七','八','九','十',0,'１','２','３','４','５','６','７','８','９','０','佰','仟','萬','百','千'] \n",
    "numNum = [1,2,3,4,5,6,7,8,9,10,20,30,1,2,3,4,5,6,7,8,9,10,0,1,2,3,4,5,6,7,8,9,0,100,1000,10000,100,1000] \n",
    "text2num = dict(zip(numTW, numNum))\n",
    "\n",
    "text2num['柒']"
   ]
  },
  {
   "cell_type": "code",
   "execution_count": 36,
   "metadata": {},
   "outputs": [],
   "source": [
    "def nds(y):\n",
    "    if bool(re.search('[壹貳參肆伍陸柒捌玖拾廿卅佰百仟千萬一二三四五六七八九十１２３４５６７８９０]', y)):\n",
    "        if len(y) == 1:\n",
    "            return text2num[y]\n",
    "        elif len(y) == 2:\n",
    "            if y[1]=='拾':\n",
    "                return text2num[y[0]]*10\n",
    "            elif y[0] in ['拾', '廿', '卅']:\n",
    "                return text2num[y[0]] + text2num[y[1]]\n",
    "            else:\n",
    "                return text2num[y[0]]*10 + text2num[y[1]]\n",
    "        elif len(y) == 3:\n",
    "            return text2num[y[0]] * text2num[y[1]] + text2num[y[2]]\n",
    "\n",
    "        else:\n",
    "            return text2num[y]\n",
    "    else:\n",
    "        return 0"
   ]
  },
  {
   "cell_type": "code",
   "execution_count": 37,
   "metadata": {},
   "outputs": [],
   "source": [
    "def todays(x):\n",
    "    if '年' in x or '月' in x or '日' in x:\n",
    "        try:\n",
    "            y = x.index(\"年\")\n",
    "        except:\n",
    "            y = 0\n",
    "        try:\n",
    "            m = x.index(\"月\")\n",
    "        except:\n",
    "            m = 0\n",
    "        try:\n",
    "            d = x.index(\"日\")\n",
    "        except:\n",
    "            d = 0\n",
    "\n",
    "        if y>0:\n",
    "            year = x[0:y]\n",
    "\n",
    "            if m>0:\n",
    "                month = x[0+y+1:m]\n",
    "\n",
    "                if d>0:\n",
    "                    day = x[0+m+1:d]\n",
    "                else:\n",
    "                    day = \"\"\n",
    "            else:\n",
    "                month = \"\"\n",
    "\n",
    "                if d>0:\n",
    "                    day = x[0+y+1:d]\n",
    "                else:\n",
    "                    day = \"\"\n",
    "        else:\n",
    "            year = \"\"\n",
    "\n",
    "            if m>0:\n",
    "                month = x[0:m]\n",
    "\n",
    "                if d>0:\n",
    "                    day = x[0+m+1:d]\n",
    "\n",
    "                else:\n",
    "                    day =\"\"\n",
    "            else:\n",
    "                month = \"\"\n",
    "                day = x[0:d]\n",
    "\n",
    "        res = nds(year)*365+nds(month)*30+nds(day)\n",
    "        return res\n",
    "\n",
    "    else:\n",
    "        return 0"
   ]
  },
  {
   "cell_type": "code",
   "execution_count": 55,
   "metadata": {},
   "outputs": [
    {
     "data": {
      "text/html": [
       "<div>\n",
       "<style scoped>\n",
       "    .dataframe tbody tr th:only-of-type {\n",
       "        vertical-align: middle;\n",
       "    }\n",
       "\n",
       "    .dataframe tbody tr th {\n",
       "        vertical-align: top;\n",
       "    }\n",
       "\n",
       "    .dataframe thead th {\n",
       "        text-align: right;\n",
       "    }\n",
       "</style>\n",
       "<table border=\"1\" class=\"dataframe\">\n",
       "  <thead>\n",
       "    <tr style=\"text-align: right;\">\n",
       "      <th></th>\n",
       "      <th>court</th>\n",
       "      <th>date</th>\n",
       "      <th>no</th>\n",
       "      <th>sys</th>\n",
       "      <th>reason</th>\n",
       "      <th>judgement</th>\n",
       "      <th>type</th>\n",
       "      <th>mainText</th>\n",
       "      <th>relatedIssues</th>\n",
       "      <th>id</th>\n",
       "      <th>fine</th>\n",
       "      <th>fineText</th>\n",
       "      <th>imprison</th>\n",
       "      <th>imprisonText</th>\n",
       "      <th>opinions</th>\n",
       "    </tr>\n",
       "  </thead>\n",
       "  <tbody>\n",
       "    <tr>\n",
       "      <th>16</th>\n",
       "      <td>臺灣士林地方法院</td>\n",
       "      <td>2013-06-28</td>\n",
       "      <td>102,審簡,444</td>\n",
       "      <td>刑事</td>\n",
       "      <td>妨害公務等</td>\n",
       "      <td>臺灣士林地方法院刑事簡易判決102年度審簡字第444號公訴人臺灣士林地方法院檢察署檢察官被告...</td>\n",
       "      <td>判決</td>\n",
       "      <td>陳景翰服用酒類，不能安全駕駛動力交通工具而駕駛，處有期徒刑貳月，如易科罰金，以新臺幣壹仟元折...</td>\n",
       "      <td>中華民國刑法_2_1;_中華民國刑法_2_1;_中華民國刑法_2_1;_中華民國刑法_2_1...</td>\n",
       "      <td>士林102審簡444</td>\n",
       "      <td>0</td>\n",
       "      <td></td>\n",
       "      <td>60</td>\n",
       "      <td>貳月</td>\n",
       "      <td>一、本件犯罪事實及證據除均引用附件檢察官起訴書之記載（詳附件）外，另就證據部分補充：被告陳景...</td>\n",
       "    </tr>\n",
       "    <tr>\n",
       "      <th>43</th>\n",
       "      <td>臺灣士林地方法院</td>\n",
       "      <td>2013-04-29</td>\n",
       "      <td>102,湖交簡,167</td>\n",
       "      <td>刑事</td>\n",
       "      <td>公共危險</td>\n",
       "      <td>臺灣士林地方法院刑事簡易判決102年度湖交簡字第167號聲請人臺灣士林地方法院檢察署檢察官被...</td>\n",
       "      <td>判決</td>\n",
       "      <td>李惠群服用酒類，不能安全駕駛動力交通工具而駕駛，處有期徒刑參月，如易科罰金，以新臺幣壹仟元折...</td>\n",
       "      <td>中華民國刑法_2_1;_中華民國刑法_2_1;_中華民國刑法_41_1;_中華民國刑法_18...</td>\n",
       "      <td>士林102湖交簡167</td>\n",
       "      <td>0</td>\n",
       "      <td></td>\n",
       "      <td>90</td>\n",
       "      <td>參月</td>\n",
       "      <td>一、本件犯罪事實、證據及應適用之法條均引用檢察官聲請簡易判決處刑書之記載（如附件）。另犯罪事...</td>\n",
       "    </tr>\n",
       "    <tr>\n",
       "      <th>44</th>\n",
       "      <td>臺灣士林地方法院</td>\n",
       "      <td>2013-05-09</td>\n",
       "      <td>102,湖交簡,180</td>\n",
       "      <td>刑事</td>\n",
       "      <td>公共危險</td>\n",
       "      <td>臺灣士林地方法院刑事簡易判決102年度湖交簡字第180號聲請人臺灣士林地方法院檢察署檢察官被...</td>\n",
       "      <td>判決</td>\n",
       "      <td>張家豪服用酒類，不能安全駕駛動力交通工具而駕駛，處罰金新臺幣玖萬玖仟元，如易服勞役，以新臺幣...</td>\n",
       "      <td>中華民國刑法_2_1;_中華民國刑法_2_1;_中華民國刑法_42_3;_中華民國刑法_18...</td>\n",
       "      <td>士林102湖交簡180</td>\n",
       "      <td>99000</td>\n",
       "      <td>玖萬玖仟</td>\n",
       "      <td>0</td>\n",
       "      <td></td>\n",
       "      <td>一、本件犯罪事實及證據均引用附件檢察官聲請簡易判決處刑書之記載。二、查被告張家豪行為後，刑法...</td>\n",
       "    </tr>\n",
       "    <tr>\n",
       "      <th>45</th>\n",
       "      <td>臺灣士林地方法院</td>\n",
       "      <td>2013-07-05</td>\n",
       "      <td>102,湖交簡,262</td>\n",
       "      <td>刑事</td>\n",
       "      <td>公共危險</td>\n",
       "      <td>臺灣士林地方法院刑事簡易判決102年度湖交簡字第262號聲請人臺灣士林地方法院檢察署檢察官被...</td>\n",
       "      <td>判決</td>\n",
       "      <td>林仕凱服用酒類，不能安全駕駛動力交通工具而駕駛，處罰金新臺幣伍萬柒仟元，如易服勞役，以新臺幣...</td>\n",
       "      <td>中華民國刑法_2_1;_中華民國刑法_2_1;_中華民國刑法_42_3;_中華民國刑法_18...</td>\n",
       "      <td>士林102湖交簡262</td>\n",
       "      <td>57000</td>\n",
       "      <td>伍萬柒仟</td>\n",
       "      <td>0</td>\n",
       "      <td></td>\n",
       "      <td>一、本件犯罪事實及證據均引用附件檢察官聲請簡易判決處刑書之記載。二、查被告林仕凱行為後，刑法...</td>\n",
       "    </tr>\n",
       "    <tr>\n",
       "      <th>46</th>\n",
       "      <td>臺灣士林地方法院</td>\n",
       "      <td>2013-06-17</td>\n",
       "      <td>102,湖交簡,263</td>\n",
       "      <td>刑事</td>\n",
       "      <td>公共危險</td>\n",
       "      <td>臺灣士林地方法院刑事簡易判決102年度湖交簡字第263號聲請人臺灣士林地方法院檢察署檢察官被...</td>\n",
       "      <td>判決</td>\n",
       "      <td>陳柏琳服用酒類，不能安全駕駛動力交通工具而駕駛，處拘役伍拾伍日，如易科罰金，以新台幣壹仟元折...</td>\n",
       "      <td>中華民國刑法_2_1;_中華民國刑法_2_1;_中華民國刑法_41_1;_中華民國刑法_18...</td>\n",
       "      <td>士林102湖交簡263</td>\n",
       "      <td>0</td>\n",
       "      <td></td>\n",
       "      <td>55</td>\n",
       "      <td>伍拾伍日</td>\n",
       "      <td>一、本件犯罪事實、證據及應適用之法條除引用檢察官聲請簡易判決處刑書之記載（如附件，與起訴書有...</td>\n",
       "    </tr>\n",
       "  </tbody>\n",
       "</table>\n",
       "</div>"
      ],
      "text/plain": [
       "       court       date           no sys reason  \\\n",
       "16  臺灣士林地方法院 2013-06-28   102,審簡,444  刑事  妨害公務等   \n",
       "43  臺灣士林地方法院 2013-04-29  102,湖交簡,167  刑事   公共危險   \n",
       "44  臺灣士林地方法院 2013-05-09  102,湖交簡,180  刑事   公共危險   \n",
       "45  臺灣士林地方法院 2013-07-05  102,湖交簡,262  刑事   公共危險   \n",
       "46  臺灣士林地方法院 2013-06-17  102,湖交簡,263  刑事   公共危險   \n",
       "\n",
       "                                            judgement type  \\\n",
       "16  臺灣士林地方法院刑事簡易判決102年度審簡字第444號公訴人臺灣士林地方法院檢察署檢察官被告...   判決   \n",
       "43  臺灣士林地方法院刑事簡易判決102年度湖交簡字第167號聲請人臺灣士林地方法院檢察署檢察官被...   判決   \n",
       "44  臺灣士林地方法院刑事簡易判決102年度湖交簡字第180號聲請人臺灣士林地方法院檢察署檢察官被...   判決   \n",
       "45  臺灣士林地方法院刑事簡易判決102年度湖交簡字第262號聲請人臺灣士林地方法院檢察署檢察官被...   判決   \n",
       "46  臺灣士林地方法院刑事簡易判決102年度湖交簡字第263號聲請人臺灣士林地方法院檢察署檢察官被...   判決   \n",
       "\n",
       "                                             mainText  \\\n",
       "16  陳景翰服用酒類，不能安全駕駛動力交通工具而駕駛，處有期徒刑貳月，如易科罰金，以新臺幣壹仟元折...   \n",
       "43  李惠群服用酒類，不能安全駕駛動力交通工具而駕駛，處有期徒刑參月，如易科罰金，以新臺幣壹仟元折...   \n",
       "44  張家豪服用酒類，不能安全駕駛動力交通工具而駕駛，處罰金新臺幣玖萬玖仟元，如易服勞役，以新臺幣...   \n",
       "45  林仕凱服用酒類，不能安全駕駛動力交通工具而駕駛，處罰金新臺幣伍萬柒仟元，如易服勞役，以新臺幣...   \n",
       "46  陳柏琳服用酒類，不能安全駕駛動力交通工具而駕駛，處拘役伍拾伍日，如易科罰金，以新台幣壹仟元折...   \n",
       "\n",
       "                                        relatedIssues           id   fine  \\\n",
       "16  中華民國刑法_2_1;_中華民國刑法_2_1;_中華民國刑法_2_1;_中華民國刑法_2_1...   士林102審簡444      0   \n",
       "43  中華民國刑法_2_1;_中華民國刑法_2_1;_中華民國刑法_41_1;_中華民國刑法_18...  士林102湖交簡167      0   \n",
       "44  中華民國刑法_2_1;_中華民國刑法_2_1;_中華民國刑法_42_3;_中華民國刑法_18...  士林102湖交簡180  99000   \n",
       "45  中華民國刑法_2_1;_中華民國刑法_2_1;_中華民國刑法_42_3;_中華民國刑法_18...  士林102湖交簡262  57000   \n",
       "46  中華民國刑法_2_1;_中華民國刑法_2_1;_中華民國刑法_41_1;_中華民國刑法_18...  士林102湖交簡263      0   \n",
       "\n",
       "   fineText  imprison imprisonText  \\\n",
       "16                 60           貳月   \n",
       "43                 90           參月   \n",
       "44     玖萬玖仟         0                \n",
       "45     伍萬柒仟         0                \n",
       "46                 55         伍拾伍日   \n",
       "\n",
       "                                             opinions  \n",
       "16  一、本件犯罪事實及證據除均引用附件檢察官起訴書之記載（詳附件）外，另就證據部分補充：被告陳景...  \n",
       "43  一、本件犯罪事實、證據及應適用之法條均引用檢察官聲請簡易判決處刑書之記載（如附件）。另犯罪事...  \n",
       "44  一、本件犯罪事實及證據均引用附件檢察官聲請簡易判決處刑書之記載。二、查被告張家豪行為後，刑法...  \n",
       "45  一、本件犯罪事實及證據均引用附件檢察官聲請簡易判決處刑書之記載。二、查被告林仕凱行為後，刑法...  \n",
       "46  一、本件犯罪事實、證據及應適用之法條除引用檢察官聲請簡易判決處刑書之記載（如附件，與起訴書有...  "
      ]
     },
     "execution_count": 55,
     "metadata": {},
     "output_type": "execute_result"
    }
   ],
   "source": [
    "imprison_date = [todays(p) for p in result_imprison_text]\n",
    "df_drunk_drive['imprison'] = imprison_date\n",
    "df_drunk_drive['imprisonText'] = result_imprison_text\n",
    "df_drunk_drive.head()"
   ]
  },
  {
   "cell_type": "markdown",
   "metadata": {},
   "source": [
    "# Retrieve opinions"
   ]
  },
  {
   "cell_type": "code",
   "execution_count": 39,
   "metadata": {},
   "outputs": [
    {
     "name": "stdout",
     "output_type": "stream",
     "text": [
      "臺灣士林地方法院刑事簡易判決102年度審簡字第444號公訴人臺灣士林地方法院檢察署檢察官被告陳景翰上列被告因妨害公務等案件，經檢察官提起公訴（101年度偵字第12851號），被告於本院準備程序中自白犯罪（102年度審易字第1005號），經本院裁定逕以簡易判決處刑，並判決如下：主文陳景翰服用酒類，不能安全駕駛動力交通工具而駕駛，處有期徒刑貳月，如易科罰金，以新臺幣壹仟元折算壹日；又對於公務員依法執行職務時，施強暴，處拘役肆拾日，如易科罰金，以新臺幣壹仟元折算壹日；又於公務員依法執行職務時，當場侮辱，處拘役參拾日，如易科罰金，以新臺幣壹仟元折算壹日。拘役部分應執行拘役陸拾伍日，如易科罰金，以新臺幣壹仟元折算壹日。事實及理由一、本件犯罪事實及證據除均引用附件檢察官起訴書之記載（詳附件）外，另就證據部分補充：被告陳景翰於本院準備程序時之自白（見本院卷第13頁背面）。二、查被告行為後，刑法第185條之3已於民國102年6月11日經總統公布修正，並於同年6月13日生效，修正前刑法第185條之3規定「服用毒品、麻醉藥品、酒類或其他相類之物，不能安全駕駛動力交通工具而駕駛者，處2年以下有期徒刑、拘役或科或併科20萬元以下罰金。因而致人於死者，處1年以上7年以下有期徒刑；致重傷者，處6月以上5年以下有期徒刑」，修正後則為「駕駛動力交通工具而有下列情形之一者，處2年以下有期徒刑，得併科20萬元以下罰金：一、吐氣所含酒精濃度達每公升0.25毫克或血液中酒精濃度達百分之0.05以上。二、有前款以外之其他情事足認服用酒類或其他相類之物，致不能安全駕駛。三、服用毒品、麻醉藥品或其他相類之物，致不能安全駕駛。因而致人於死者，處3年以上10年以下有期徒刑；致重傷者，處1年以上7年以下有期徒刑。」，經比較新、舊法之結果，被告行為時之舊法對被告較為有利，依刑法第2條第1項前段之規定，本件自應適用被告行為時之規定處斷，合先敘明。三、核被告陳景翰所為，係犯刑法第135條第1項之妨害公務執行罪、同法第140條第1項前段之侮辱公務員罪及102年6月11日修正前刑法第185條之3第1項之不能安全駕駛動力交通工具罪。被告所犯上開3罪，犯意各別、行為互殊、罪名不同，應予分論併罰，公訴意旨認被告就刑法第135條第1項之妨害公務執行罪、同法第140條第1項前段之侮辱公務員罪部分，係以一行為觸犯2罪名之想像競合犯，容有誤會。爰審酌被告於本件服用酒類後，已處於不能安全駕駛動力交通工具之狀態，仍執意騎乘機車上路，既漠視自身安危，亦枉顧公眾安全，所測得之呼氣酒精濃度高達每公升1.05毫克，又對執行職務之公務員當場施以強暴及侮辱犯行，所為對公權力之執行所生危害非輕，惟犯後已知坦承犯行，並其犯罪之動機、手段、目的、智識程度及生活狀況等一切情狀，認公訴人建議就被告所犯公共危險犯行求處被告有期徒刑2月之刑度尚稱妥適，爰各量處如主文所示之刑，並均諭知易科罰金之折算標準。四、末查，被告行為後，刑法第50條業於102年1月23日修正公布，並自公布日施行，修正前刑法第50條規定：「裁判確定前犯數罪者，併合處罰之。」，而修正後刑法第50條則規定：「裁判確定前犯數罪者，併合處罰之。但有下列情形之一者，不在此限：一、得易科罰金之罪與不得易科罰金之罪。二、得易科罰金之罪與不得易服社會勞動之罪。三、得易服社會勞動之罪與不得易科罰金之罪。四、得易服社會勞動之罪與不得易服社會勞動之罪。前項但書情形，受刑人請求檢察官聲請定應執行刑者，依第五十一條規定定之。」。是以，新舊法就數罪併罰之要件既因此而有變動，自屬犯罪後法律有變更，而非僅屬純文字修正，應有新舊法比較適用之問題，且倘比較結果並無有利或不利之情形，即應依刑法第2條第1項前段之規定，適用行為時之法律，方為適法。而本案被告所犯上開3罪，不論新法、舊法，均屬得易科罰金之罪，並無有利或不利之情形，爰就被告所犯妨害公務執行罪及侮辱公務員罪判處拘役部分，依刑法第2條第1項前段之規定，應適用修正前刑法第50條規定合併定應執行之刑，以示懲儆。五、依刑事訴訟法第449條第2項、第3項、第454條第2項，刑法第2條第1項前段、第135條第1項、第140條第1項前段、第41條第1項前段、第51條第6款，民國102年6月11日修正前刑法第185條之3第1項，民國102年1月23日修正前刑法第50條，刑法施行法第1條之1第1項、第2項前段，逕以簡易判決處刑如主文。六、如不服本判決，應於送達後10日內，向本院提起上訴。中華民國102年6月28日刑事第一庭法官黃翰義以上正本證明與原本無異。書記官陳麗津中華民國102年7月2日附錄本件論罪科刑依據法條刑法第135條第1項對於公務員依法執行職務時，施強暴脅迫者，處3年以下有期徒刑、拘役或3百元以下罰金。刑法第140條第1項於公務員依法執行職務時，當場侮辱，或對於其依法執行之職務公然侮辱者，處6月以下有期徒刑、拘役或1百元以下罰金。民國102年6月11日修正前刑法第185條之3第1項服用毒品、麻醉藥品、酒類或其他相類之物，不能安全駕駛動力交通工具而駕駛者，處2年以下有期徒刑、拘役或科或併科20萬元以下罰金。\n",
      "陳景翰服用酒類，不能安全駕駛動力交通工具而駕駛，處有期徒刑貳月，如易科罰金，以新臺幣壹仟元折算壹日；又對於公務員依法執行職務時，施強暴，處拘役肆拾日，如易科罰金，以新臺幣壹仟元折算壹日；又於公務員依法執行職務時，當場侮辱，處拘役參拾日，如易科罰金，以新臺幣壹仟元折算壹日。拘役部分應執行拘役陸拾伍日，如易科罰金，以新臺幣壹仟元折算壹日。\n",
      "事實及理由\n",
      "一、本件犯罪事實及證據除均引用附件檢察官起訴書之記載（詳附件）外，另就證據部分補充：被告陳景翰於本院準備程序時之自白（見本院卷第13頁背面）。二、查被告行為後，刑法第185條之3已於民國102年6月11日經總統公布修正，並於同年6月13日生效，修正前刑法第185條之3規定「服用毒品、麻醉藥品、酒類或其他相類之物，不能安全駕駛動力交通工具而駕駛者，處2年以下有期徒刑、拘役或科或併科20萬元以下罰金。因而致人於死者，處1年以上7年以下有期徒刑；致重傷者，處6月以上5年以下有期徒刑」，修正後則為「駕駛動力交通工具而有下列情形之一者，處2年以下有期徒刑，得併科20萬元以下罰金：一、吐氣所含酒精濃度達每公升0.25毫克或血液中酒精濃度達百分之0.05以上。二、有前款以外之其他情事足認服用酒類或其他相類之物，致不能安全駕駛。三、服用毒品、麻醉藥品或其他相類之物，致不能安全駕駛。因而致人於死者，處3年以上10年以下有期徒刑；致重傷者，處1年以上7年以下有期徒刑。」，經比較新、舊法之結果，被告行為時之舊法對被告較為有利，依刑法第2條第1項前段之規定，本件自應適用被告行為時之規定處斷，合先敘明。三、核被告陳景翰所為，係犯刑法第135條第1項之妨害公務執行罪、同法第140條第1項前段之侮辱公務員罪及102年6月11日修正前刑法第185條之3第1項之不能安全駕駛動力交通工具罪。被告所犯上開3罪，犯意各別、行為互殊、罪名不同，應予分論併罰，公訴意旨認被告就刑法第135條第1項之妨害公務執行罪、同法第140條第1項前段之侮辱公務員罪部分，係以一行為觸犯2罪名之想像競合犯，容有誤會。爰審酌被告於本件服用酒類後，已處於不能安全駕駛動力交通工具之狀態，仍執意騎乘機車上路，既漠視自身安危，亦枉顧公眾安全，所測得之呼氣酒精濃度高達每公升1.05毫克，又對執行職務之公務員當場施以強暴及侮辱犯行，所為對公權力之執行所生危害非輕，惟犯後已知坦承犯行，並其犯罪之動機、手段、目的、智識程度及生活狀況等一切情狀，認公訴人建議就被告所犯公共危險犯行求處被告有期徒刑2月之刑度尚稱妥適，爰各量處如主文所示之刑，並均諭知易科罰金之折算標準。四、末查，被告行為後，刑法第50條業於102年1月23日修正公布，並自公布日施行，修正前刑法第50條規定：「裁判確定前犯數罪者，併合處罰之。」，而修正後刑法第50條則規定：「裁判確定前犯數罪者，併合處罰之。但有下列情形之一者，不在此限：一、得易科罰金之罪與不得易科罰金之罪。二、得易科罰金之罪與不得易服社會勞動之罪。三、得易服社會勞動之罪與不得易科罰金之罪。四、得易服社會勞動之罪與不得易服社會勞動之罪。前項但書情形，受刑人請求檢察官聲請定應執行刑者，依第五十一條規定定之。」。是以，新舊法就數罪併罰之要件既因此而有變動，自屬犯罪後法律有變更，而非僅屬純文字修正，應有新舊法比較適用之問題，且倘比較結果並無有利或不利之情形，即應依刑法第2條第1項前段之規定，適用行為時之法律，方為適法。而本案被告所犯上開3罪，不論新法、舊法，均屬得易科罰金之罪，並無有利或不利之情形，爰就被告所犯妨害公務執行罪及侮辱公務員罪判處拘役部分，依刑法第2條第1項前段之規定，應適用修正前刑法第50條規定合併定應執行之刑，以示懲儆。五、依刑事訴訟法第449條第2項、第3項、第454條第2項，刑法第2條第1項前段、第135條第1項、第140條第1項前段、第41條第1項前段、第51條第6款，民國102年6月11日修正前刑法第185條之3第1項，民國102年1月23日修正前刑法第50條，刑法施行法第1條之1第1項、第2項前段，逕以簡易判決處刑如主文。六、如不服本判決，應於送達後10日內，向本院提起上訴。中華民國102年6月28日刑事第一庭法官黃翰義\n",
      "以上正本證明與原本無異。書記官陳麗津中華民國102年7月2日附錄本件論罪科刑依據法條刑法第135條第1項對於公務員依法執行職務時，施強暴脅迫者，處3年以下有期徒刑、拘役或3百元以下罰金。刑法第140條第1項於公務員依法執行職務時，當場侮辱，或對於其依法執行之職務公然侮辱者，處6月以下有期徒刑、拘役或1百元以下罰金。民國102年6月11日修正前刑法第185條之3第1項服用毒品、麻醉藥品、酒類或其他相類之物，不能安全駕駛動力交通工具而駕駛者，處2年以下有期徒刑、拘役或科或併科20萬元以下罰金。\n"
     ]
    }
   ],
   "source": [
    "text = list(df_drunk_drive['judgement'])[0]\n",
    "print(text)\n",
    "found = re.search('主文(.+?)(事實及理由|理由)(.+?)(以上正本.+)', text)\n",
    "print(found.group(1))\n",
    "print(found.group(2))\n",
    "print(found.group(3))\n",
    "print(found.group(4))"
   ]
  },
  {
   "cell_type": "code",
   "execution_count": 40,
   "metadata": {},
   "outputs": [],
   "source": [
    "opinions = []\n",
    "for text in list(df_drunk_drive['judgement']):\n",
    "    try:\n",
    "        found = re.search('主文(.+?)(事實及理由|理由)(.+)', text)\n",
    "        opinions.append(found.group(3))\n",
    "    except:\n",
    "        print(text)\n",
    "        print(\"-\"*100)\n",
    "        opinions.append(\"\")\n",
    "\n",
    "\n",
    "    \n",
    "df_drunk_drive = df_drunk_drive.assign(opinions = opinions)"
   ]
  },
  {
   "cell_type": "markdown",
   "metadata": {},
   "source": [
    "# Tokenization"
   ]
  },
  {
   "cell_type": "code",
   "execution_count": 56,
   "metadata": {},
   "outputs": [],
   "source": [
    "import jieba"
   ]
  },
  {
   "cell_type": "code",
   "execution_count": 57,
   "metadata": {},
   "outputs": [
    {
     "name": "stdout",
     "output_type": "stream",
     "text": [
      "Index(['court', 'date', 'no', 'sys', 'reason', 'judgement', 'type', 'mainText',\n",
      "       'relatedIssues', 'id', 'fine', 'fineText', 'imprison', 'imprisonText',\n",
      "       'opinions'],\n",
      "      dtype='object')\n",
      "[['一', '、', '本', '件', '犯罪事實', '及', '證據', '除均', '引用', '附件', '檢察官', '起訴書', '之', '記載', '（', '詳', '附件', '）', '外', '，', '另', '就', '證據', '部分', '補充', '：', '被告', '陳景翰於', '本院', '準備', '程序', '時', '之', '自白', '（', '見', '本院', '捲', '第', '13', '頁', '背麵', '）', '。', '二', '、', '查', '被告', '行為', '後', '，', '刑法', '第', '185', '條', '之', '3', '已於', '民國', '102', '年', '6', '月', '11', '日經', '總統', '公布', '修正', '，', '並', '於', '同年', '6', '月', '13', '日', '生效', '，', '修正', '前', '刑法', '第', '185', '條', '之', '3', '規定', '「', '服用', '毒品', '、', '麻醉藥品', '、', '酒類', '或', '其他', '相類', '之物', '，', '不能', '安全', '駕駛', '動力', '交通工具', '而', '駕駛者', '，', '處', '2', '年', '以下', '有期徒刑', '、', '拘役', '或科', '或', '併', '科', '20', '萬元', '以下', '罰金', '。', '因而', '緻人於', '死者', '，', '處', '1', '年', '以上', '7', '年', '以下', '有期徒刑', '；', '緻', '重傷', '者', '，', '處', '6', '月', '以上', '5', '年', '以下', '有期徒刑', '」', '，', '修正', '後', '則', '為', '「', '駕駛', '動力', '交通工具', '而', '有', '下列', '情形', '之一', '者', '，', '處', '2', '年', '以下', '有期徒刑', '，', '得', '併', '科', '20', '萬元', '以下', '罰金', '：', '一', '、', '吐氣', '所', '含酒精', '濃度', '達', '每', '公升', '0.25', '毫剋', '或', '血液', '中', '酒精', '濃度', '達', '百分之', '0.05', '以上', '。', '二', '、', '有', '前款', '以外', '之', '其他', '情事', '足認', '服用', '酒類', '或', '其他', '相類', '之物', '，', '緻', '不能', '安全', '駕駛', '。', '三', '、', '服用', '毒品', '、', '麻醉藥品', '或', '其他', '相類', '之物', '，', '緻', '不能', '安全', '駕駛', '。', '因而', '緻人於', '死者', '，', '處', '3', '年', '以上', '10', '年', '以下', '有期徒刑', '；', '緻', '重傷', '者', '，', '處', '1', '年', '以上', '7', '年', '以下', '有期徒刑', '。', '」', '，', '經', '比較', '新', '、', '舊法', '之', '結果', '，', '被告', '行為', '時', '之', '舊法', '對', '被告', '較為', '有利', '，', '依', '刑法', '第', '2', '條', '第', '1', '項', '前段', '之', '規定', '，', '本件', '自應', '適用', '被告', '行為', '時', '之', '規定', '處', '斷', '，', '閤先', '敘明', '。', '三', '、', '核', '被告', '陳景翰', '所', '為', '，', '係犯', '刑法', '第', '135', '條', '第', '1', '項', '之', '妨害', '公務', '執行', '罪', '、', '同法', '第', '140', '條', '第', '1', '項', '前段', '之', '侮辱', '公務員', '罪及', '102', '年', '6', '月', '11', '日', '修正', '前', '刑法', '第', '185', '條', '之', '3', '第', '1', '項', '之', '不能', '安全', '駕駛', '動力', '交通工具', '罪', '。', '被告', '所', '犯上', '開', '3', '罪', '，', '犯意', '各彆', '、', '行為', '互殊', '、', '罪名', '不同', '，', '應予', '分論', '併', '罰', '，', '公訴', '意旨', '認', '被告', '就', '刑法', '第', '135', '條', '第', '1', '項', '之', '妨害', '公務', '執行', '罪', '、', '同法', '第', '140', '條', '第', '1', '項', '前段', '之', '侮辱', '公務員', '罪', '部分', '，', '係以', '一', '行為', '觸犯', '2', '罪名', '之', '想像', '競閤', '犯', '，', '容有', '誤會', '。', '爰', '審酌', '被告', '於', '本件', '服用', '酒類', '後', '，', '已', '處於', '不能', '安全', '駕駛', '動力', '交通工具', '之', '狀態', '，', '仍', '執意', '騎', '乘機', '車上', '路', '，', '既', '漠視', '自身', '安危', '，', '亦', '枉顧', '公眾', '安全', '，', '所測', '得', '之', '呼氣', '酒精', '濃度', '高達', '每', '公升', '1.05', '毫剋', '，', '又', '對', '執行', '職務', '之', '公務員', '當場', '施以', '強暴', '及', '侮辱', '犯行', '，', '所為', '對', '公權力', '之', '執行', '所', '生', '危害', '非輕', '，', '惟犯', '後', '已知', '坦承', '犯行', '，', '並', '其', '犯罪', '之', '動機', '、', '手段', '、', '目的', '、', '智識', '程度', '及', '生活狀況', '等', '一切', '情狀', '，', '認', '公訴人', '建議', '就', '被告', '所', '犯', '公共', '危險', '犯行求', '處', '被告', '有期徒刑', '2', '月', '之', '刑度', '尚稱', '妥適', '，', '爰', '各量', '處', '如', '主文', '所示', '之刑', '，', '並', '均', '諭知', '易科', '罰金', '之', '摺算', '標準', '。', '四', '、', '末查', '，', '被告', '行為', '後', '，', '刑法', '第', '50', '條業', '於', '102', '年', '1', '月', '23', '日', '修正', '公布', '，', '並', '自', '公布', '日', '施行', '，', '修正', '前', '刑法', '第', '50', '條', '規定', '：', '「', '裁判', '確定', '前犯', '數罪者', '，', '併', '閤', '處罰', '之', '。', '」', '，', '而', '修正', '後', '刑法', '第', '50', '條則', '規定', '：', '「', '裁判', '確定', '前犯', '數罪者', '，', '併', '閤', '處罰', '之', '。', '但', '有', '下列', '情形', '之一', '者', '，', '不在此限', '：', '一', '、', '得易科', '罰金', '之罪', '與', '不得', '易科', '罰金', '之罪', '。', '二', '、', '得易科', '罰金', '之罪', '與', '不得', '易服', '社會', '勞動', '之罪', '。', '三', '、', '得易服', '社會', '勞動', '之罪', '與', '不得', '易科', '罰金', '之罪', '。', '四', '、', '得易服', '社會', '勞動', '之罪', '與', '不得', '易服', '社會', '勞動', '之罪', '。', '前項', '但書', '情形', '，', '受刑人', '請求', '檢察官', '聲請定', '應', '執行', '刑者', '，', '依', '第五十一條', '規定', '定', '之', '。', '」', '。', '是', '以', '，', '新舊', '法', '就', '數罪', '併', '罰', '之', '要件', '既', '因此', '而', '有', '變動', '，', '自屬', '犯罪', '後', '法律', '有', '變更', '，', '而', '非僅', '屬', '純文字', '修正', '，', '應有', '新舊', '法', '比較', '適用', '之', '問題', '，', '且', '倘', '比較', '結果', '並', '無', '有利', '或', '不利', '之', '情形', '，', '即應', '依', '刑法', '第', '2', '條', '第', '1', '項', '前段', '之', '規定', '，', '適用', '行為', '時', '之', '法律', '，', '方為', '適法', '。', '而', '本案', '被告', '所', '犯上', '開', '3', '罪', '，', '不論', '新法', '、', '舊法', '，', '均', '屬', '得', '易科', '罰金', '之罪', '，', '並', '無', '有利', '或', '不利', '之', '情形', '，', '爰', '就', '被告', '所', '犯', '妨害', '公務', '執行', '罪及', '侮辱', '公務員', '罪', '判處', '拘役', '部分', '，', '依', '刑法', '第', '2', '條', '第', '1', '項', '前段', '之', '規定', '，', '應', '適用', '修正', '前', '刑法', '第', '50', '條', '規定', '閤', '併', '定應', '執行', '之刑', '，', '以示', '懲', '儆', '。', '五', '、', '依', '刑事訴訟法', '第', '449', '條', '第', '2', '項', '、', '第', '3', '項', '、', '第', '454', '條', '第', '2', '項', '，', '刑法', '第', '2', '條', '第', '1', '項', '前段', '、', '第', '135', '條', '第', '1', '項', '、', '第', '140', '條', '第', '1', '項', '前段', '、', '第', '41', '條', '第', '1', '項', '前段', '、', '第', '51', '條', '第', '6', '款', '，', '民國', '102', '年', '6', '月', '11', '日', '修正', '前', '刑法', '第', '185', '條', '之', '3', '第', '1', '項', '，', '民國', '102', '年', '1', '月', '23', '日', '修正', '前', '刑法', '第', '50', '條', '，', '刑法', '施行', '法', '第', '1', '條', '之', '1', '第', '1', '項', '、', '第', '2', '項', '前段', '，', '逕', '以', '簡易', '判決', '處刑', '如', '主文', '。', '六', '、', '如', '不服', '本', '判決', '，', '應', '於', '送達', '後', '10', '日內', '，', '嚮', '本院', '提起', '上訴', '。', '中華民國', '102', '年', '6', '月', '28', '日', '刑事', '第一', '庭', '法官', '黃翰義', '以上', '正本', '證明', '與', '原本', '無異', '。', '書記官', '陳麗津', '中華民國', '102', '年', '7', '月', '2', '日', '附錄', '本', '件', '論罪', '科刑', '依據', '法條', '刑法', '第', '135', '條', '第', '1', '項', '對於', '公務員', '依法', '執行', '職務', '時', '，', '施', '強暴', '脅迫', '者', '，', '處', '3', '年', '以下', '有期徒刑', '、', '拘役', '或', '3', '百元', '以下', '罰金', '。', '刑法', '第', '140', '條', '第', '1', '項於', '公務員', '依法', '執行', '職務', '時', '，', '當場', '侮辱', '，', '或', '對於', '其', '依法', '執行', '之', '職務', '公然侮辱', '者', '，', '處', '6', '月', '以下', '有期徒刑', '、', '拘役', '或', '1', '百元', '以下', '罰金', '。', '民國', '102', '年', '6', '月', '11', '日', '修正', '前', '刑法', '第', '185', '條', '之', '3', '第', '1', '項', '服用', '毒品', '、', '麻醉藥品', '、', '酒類', '或', '其他', '相類', '之物', '，', '不能', '安全', '駕駛', '動力', '交通工具', '而', '駕駛者', '，', '處', '2', '年', '以下', '有期徒刑', '、', '拘役', '或科', '或', '併', '科', '20', '萬元', '以下', '罰金', '。']]\n"
     ]
    }
   ],
   "source": [
    "print(df_drunk_drive.columns)\n",
    "opinions = list(df_drunk_drive['opinions'])\n",
    "# opsim = [HanziConv.toSimplified(t) for t in opinions]\n",
    "op_cutted = []\n",
    "for op in opinions[:1]:\n",
    "    cutted = jieba.cut(HanziConv.toSimplified(op))\n",
    "#     print(\" / \".join(cutted))\n",
    "    op_cutted.append([HanziConv.toTraditional(term) for term in cutted])\n",
    "print(op_cutted)\n",
    "# sim_cutted = [jieba.cut(HanziConv.toSimplified(op)) for op in opinions]\n",
    "# print(sim_cutted[0])\n",
    "# sim_cutted_to_tra = [HanziConv.toTraditional(term) for term in sim_cutted]"
   ]
  },
  {
   "cell_type": "markdown",
   "metadata": {},
   "source": [
    "# Using SentencePiece\n",
    "- https://github.com/google/sentencepiece/blob/master/python/sentencepiece_python_module_example.ipynb\n",
    "```\n",
    "input 训练语料，形式为一行一段文本\n",
    "model_prefix 模型输出的路径\n",
    "vocab_size 训练后词表的大小，数量越大训练越慢，太小(<4000)可能训练不了\n",
    "character_coverage 模型中覆盖的字符数，默认是0.995，中文语料设置为1\n",
    "model_type 训练时模型的类别：\n",
    "max_sentence_length 最大句子长度，默认是4192，长度貌似按字节来算，意味一个中文字代表长度为2\n",
    "max_sentencepiece_length 最大的句子块长度，默认是16\n",
    "seed_sentencepiece_size 控制句子数量，默认是100w\n",
    "num_threads 线程数，默认是开16个\n",
    "use_all_vocab 使用所有的tokens作为词库，不过只对word/char 模型管用\n",
    "input_sentence_size 训练器最大加载数量，默认为0\n",
    "```"
   ]
  },
  {
   "cell_type": "code",
   "execution_count": 44,
   "metadata": {},
   "outputs": [],
   "source": [
    "# %pip install sentencepiece\n",
    "import sentencepiece as spm\n",
    "\n",
    "with open(\"opinions.txt\", 'w') as fout:\n",
    "    fout.write(\"\\n\".join(opinions))\n",
    "    \n",
    "spm.SentencePieceTrainer.train('--input=opinions.txt --model_prefix=m --vocab_size=3352')"
   ]
  },
  {
   "cell_type": "code",
   "execution_count": 45,
   "metadata": {},
   "outputs": [
    {
     "data": {
      "text/plain": [
       "True"
      ]
     },
     "execution_count": 45,
     "metadata": {},
     "output_type": "execute_result"
    }
   ],
   "source": [
    "sp = spm.SentencePieceProcessor()\n",
    "sp.load('m.model')"
   ]
  },
  {
   "cell_type": "code",
   "execution_count": 46,
   "metadata": {},
   "outputs": [
    {
     "name": "stdout",
     "output_type": "stream",
     "text": [
      "['▁', '一', '、', '本件犯罪事實及證據', '除均引用附件檢察官起訴書之記載', '(', '詳', '附件', ')', '外', ',', '另就證據部分補充', ':', '被告陳', '景', '翰', '於本院準備程序時', '之自白', '(', '見本院卷第', '1', '3', '頁背面', ')。', '二', '、', '查被告', '行為後', ',', '刑法第', '1', '85', '條之', '3', '已', '於民國', '1', '02', '年', '6', '月', '11', '日', '經總統', '公布', '修正', ',', '並於同年', '6', '月', '1', '3', '日生效', ',', '修正前', '刑法第', '1', '85', '條之', '3', '規定', '「', '服用', '毒品', '、', '麻醉藥品', '、', '酒類', '或', '其他', '相', '類', '之', '物', ',', '不能安全駕駛動力交通工具而駕駛', '者', ',', '處', '2', '年以下有期徒刑', '、', '拘役或科或併科', '20', '萬元以下罰金', '。', '因而', '致', '人於', '死', '者', ',', '處', '1', '年以上', '7', '年以下有期徒刑', ';', '致', '重傷', '者', ',', '處', '6', '月以上', '5', '年以下有期徒刑', '」,', '修正後則為', '「', '駕駛動力交通工具而', '有', '下', '列', '情形', '之一', '者', ',', '處', '2', '年以下有期徒刑', ',', '得併科', '20', '萬元以下罰金', ':', '一', '、', '吐氣所含酒精濃度達每公升', '0.2', '5', '毫克或血液中酒精濃度達百分之', '0.05', '以上', '。', '二', '、', '有前', '款', '以', '外', '之', '其他', '情', '事', '足認', '服用酒類', '或', '其他', '相', '類', '之', '物', ',', '致不能安全駕駛', '。', '三', '、', '服用', '毒品', '、', '麻醉藥品', '或', '其他', '相', '類', '之', '物', ',', '致不能安全駕駛', '。', '因而', '致', '人於', '死', '者', ',', '處', '3', '年以上', '10', '年以下有期徒刑', ';', '致', '重傷', '者', ',', '處', '1', '年以上', '7', '年以下有期徒刑', '。」,', '經比較新', '、', '舊法', '之', '結', '果', ',', '被告行為時之', '舊法', '對被告較', '為', '有利', ',', '依刑法第', '2', '條第', '1', '項前段', '之規定', ',', '本件自應適用被告行為時之', '規定處斷', ',', '合', '先', '敘明', '。', '三', '、', '核被告', '陳', '景', '翰', '所為', ',', '係犯刑法第', '1', '3', '5', '條第', '1', '項', '之', '妨害公務', '執行', '罪', '、', '同法第', '1', '40', '條第', '1', '項前段', '之', '侮辱', '公務', '員', '罪', '及', '1', '02', '年', '6', '月', '11', '日修正前', '刑法第', '1', '85', '條之', '3', '第', '1', '項之不能安全駕駛動力交通工具罪', '。', '被告所犯', '上開', '3', '罪', ',', '犯意', '各', '別', '、', '行為', '互', '殊', '、', '罪', '名', '不', '同', ',', '應予', '分', '論', '併罰', ',', '公訴', '意旨', '認', '被告', '就', '刑法第', '1', '3', '5', '條第', '1', '項', '之', '妨害公務', '執行', '罪', '、', '同法第', '1', '40', '條第', '1', '項前段', '之', '侮辱', '公務', '員', '罪', '部分', ',', '係', '以', '一', '行為', '觸', '犯', '2', '罪', '名', '之', '想像競', '合', '犯', ',', '容', '有', '誤', '會', '。', '爰審酌被告於', '本件', '服用酒類後', ',', '已處於不能安全駕駛動力交通工具之', '狀態', ',', '仍', '執意', '騎乘機車', '上', '路', ',', '既漠視自', '身', '安危', ',', '亦', '枉顧公眾', '安全', ',', '所測得之呼氣酒精濃度高達每公升', '1', '.05', '毫克', ',', '又', '對', '執行職務之', '公務', '員', '當', '場', '施以強暴', '及', '侮辱', '犯行', ',', '所為', '對', '公', '權', '力', '之執行', '所', '生危害', '非輕', ',', '惟', '犯後已知坦承犯行', ',', '並', '其犯罪', '之', '動機', '、', '手段', '、', '目', '的', '、', '智識程度及', '生活狀況', '等', '一', '切', '情狀', ',', '認公訴人', '建', '議', '就', '被告所犯', '公共危險犯行', '求處被告有期徒刑', '2', '月之刑度', '尚稱', '妥', '適', ',', '爰', '各', '量處如主文所示之刑', ',', '並均', '諭知易科罰金之折算標準', '。', '四', '、', '末', '查', ',', '被告', '行為後', ',', '刑法第', '50', '條', '業於', '1', '02', '年', '1', '月', '2', '3', '日修正公布', ',', '並自', '公布', '日施行', ',', '修正前', '刑法第', '50', '條規定', ':「', '裁', '判', '確定', '前', '犯', '數罪', '者', ',', '併', '合', '處罰', '之', '。」,', '而', '修正後刑法', '第', '50', '條', '則', '規定', ':「', '裁', '判', '確定', '前', '犯', '數罪', '者', ',', '併', '合', '處罰', '之', '。', '但', '有', '下', '列', '情形', '之一', '者', ',', '不', '在', '此', '限', ':', '一', '、', '得', '易科罰金', '之罪', '與', '不得', '易科罰金', '之罪', '。', '二', '、', '得', '易科罰金', '之罪', '與', '不得', '易服', '社會', '勞', '動', '之罪', '。', '三', '、', '得', '易服', '社會', '勞', '動', '之罪', '與', '不得', '易科罰金', '之罪', '。', '四', '、', '得', '易服', '社會', '勞', '動', '之罪', '與', '不得', '易服', '社會', '勞', '動', '之罪', '。', '前', '項', '但', '書', '情形', ',', '受刑人', '請求', '檢察官聲請', '定應執行刑', '者', ',', '依', '第', '五', '十', '一', '條規定', '定', '之', '。」', '。', '是', '以', ',', '新舊法', '就', '數罪', '併罰', '之', '要件', '既', '因此', '而有', '變', '動', ',', '自', '屬', '犯罪', '後', '法律有', '變更', ',', '而', '非', '僅', '屬', '純', '文', '字', '修正', ',', '應有', '新舊法', '比較', '適用', '之', '問', '題', ',', '且', '倘', '比較', '結', '果', '並無', '有利', '或', '不', '利', '之情形', ',', '即', '應依刑法第', '2', '條第', '1', '項前段', '之規定', ',', '適用行為時之法律', ',', '方', '為', '適', '法', '。', '而', '本案', '被告所犯', '上開', '3', '罪', ',', '不', '論', '新法', '、', '舊法', ',', '均', '屬', '得', '易科罰金', '之罪', ',', '並無', '有利', '或', '不', '利', '之情形', ',', '爰', '就', '被告所犯', '妨害公務', '執行', '罪', '及', '侮辱', '公務', '員', '罪', '判處拘役', '部分', ',', '依刑法第', '2', '條第', '1', '項前段', '之規定', ',', '應適用修正前', '刑法第', '50', '條規定', '合', '併', '定', '應執行之刑', ',', '以示', '懲', '儆', '。', '五', '、', '依刑事訴訟法第', '4', '49', '條第', '2', '項', '、', '第', '3', '項', '、', '第', '45', '4', '條第', '2', '項', ',', '刑法第', '2', '條第', '1', '項前段', '、', '第', '1', '3', '5', '條第', '1', '項', '、', '第', '1', '40', '條第', '1', '項前段', '、', '第', '41', '條第', '1', '項前段', '、', '第', '5', '1', '條第', '6', '款', ',', '民國', '1', '02', '年', '6', '月', '11', '日修正前', '刑法第', '1', '85', '條之', '3', '第', '1', '項', ',', '民國', '1', '02', '年', '1', '月', '2', '3', '日修正前', '刑法第', '50', '條', ',', '刑法', '施行', '法第', '1', '條之', '1', '第', '1', '項', '、', '第', '2', '項前段', ',', '逕以簡易判決處', '刑如主文', '。', '六', '、', '如不服本判決', ',', '應於送達後', '10', '日內', ',', '向本院', '提起上訴', '。', '中華民國', '1', '02', '年', '6', '月', '28', '日刑事第一庭法官', '黃', '翰', '義以上正本', '證明', '與', '原本', '無', '異', '。', '書記官', '陳麗', '津', '中華民國', '1', '02', '年', '7', '月', '2', '日附錄本件論罪科刑依據法條', '刑法第', '1', '3', '5', '條第', '1', '項', '對於', '公務', '員', '依法', '執行', '職務', '時', ',', '施', '強', '暴', '脅迫', '者', ',', '處', '3', '年以下有期徒刑', '、', '拘役或', '3', '百元以下罰金', '。', '刑法第', '1', '40', '條第', '1', '項', '於', '公務', '員', '依法', '執行', '職務', '時', ',', '當', '場', '侮辱', ',', '或', '對於', '其', '依法', '執行', '之', '職務', '公', '然', '侮辱', '者', ',', '處', '6', '月', '以下有期徒刑', '、', '拘役或', '1', '百元以下罰金', '。', '民國', '1', '02', '年', '6', '月', '11', '日修正前', '刑法第', '1', '85', '條之', '3', '第', '1', '項服用', '毒品', '、', '麻醉藥品', '、', '酒類', '或', '其他', '相', '類', '之', '物', ',', '不能安全駕駛動力交通工具而駕駛', '者', ',', '處', '2', '年以下有期徒刑', '、', '拘役或科或併科', '20', '萬元以下罰金', '。']\n"
     ]
    }
   ],
   "source": [
    "print(sp.encode_as_pieces(opinions[0]))"
   ]
  }
 ],
 "metadata": {
  "kernelspec": {
   "display_name": "Python 3",
   "language": "python",
   "name": "python3"
  },
  "language_info": {
   "codemirror_mode": {
    "name": "ipython",
    "version": 3
   },
   "file_extension": ".py",
   "mimetype": "text/x-python",
   "name": "python",
   "nbconvert_exporter": "python",
   "pygments_lexer": "ipython3",
   "version": "3.7.6"
  },
  "toc-autonumbering": true,
  "toc-showcode": true,
  "toc-showmarkdowntxt": false
 },
 "nbformat": 4,
 "nbformat_minor": 4
}
